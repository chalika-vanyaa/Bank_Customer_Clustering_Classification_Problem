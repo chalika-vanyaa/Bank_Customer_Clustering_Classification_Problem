{
  "nbformat": 4,
  "nbformat_minor": 0,
  "metadata": {
    "colab": {
      "provenance": [],
      "toc_visible": true,
      "include_colab_link": true
    },
    "kernelspec": {
      "name": "python3",
      "display_name": "Python 3"
    },
    "language_info": {
      "name": "python"
    }
  },
  "cells": [
    {
      "cell_type": "markdown",
      "metadata": {
        "id": "view-in-github",
        "colab_type": "text"
      },
      "source": [
        "<a href=\"https://colab.research.google.com/github/chalika-vanyaa/Dicoding-BMLP_Self_Project/blob/main/%5BKlasifikasi%5D_Submission_Akhir_BMLP_Chalika_Vanya_Resya.ipynb\" target=\"_parent\"><img src=\"https://colab.research.google.com/assets/colab-badge.svg\" alt=\"Open In Colab\"/></a>"
      ]
    },
    {
      "cell_type": "markdown",
      "source": [
        "# **1. Import Library**"
      ],
      "metadata": {
        "id": "fKADPWcFKlj3"
      }
    },
    {
      "cell_type": "markdown",
      "source": [
        "Pada tahap ini, Anda perlu mengimpor beberapa pustaka (library) Python yang dibutuhkan untuk analisis data dan pembangunan model machine learning."
      ],
      "metadata": {
        "id": "LgA3ERnVn84N"
      }
    },
    {
      "cell_type": "code",
      "source": [
        "# import modules\n",
        "import numpy as np\n",
        "import pandas as pd\n",
        "import matplotlib.pyplot as plt\n",
        "import seaborn as sns\n",
        "import os"
      ],
      "metadata": {
        "id": "BlmvjLY9M4Yj"
      },
      "execution_count": null,
      "outputs": []
    },
    {
      "cell_type": "markdown",
      "source": [
        "# **2. Memuat Dataset dari Hasil Clustering**"
      ],
      "metadata": {
        "id": "f3YIEnAFKrKL"
      }
    },
    {
      "cell_type": "markdown",
      "source": [
        "Memuat dataset hasil clustering dari file CSV ke dalam variabel DataFrame."
      ],
      "metadata": {
        "id": "Ey3ItwTen_7E"
      }
    },
    {
      "cell_type": "code",
      "source": [
        "from google.colab import drive\n",
        "drive.mount('/content/drive')"
      ],
      "metadata": {
        "colab": {
          "base_uri": "https://localhost:8080/"
        },
        "id": "kd9xZDA5EPTD",
        "outputId": "f02b0140-23e4-420b-cada-7ba4f78899ec"
      },
      "execution_count": null,
      "outputs": [
        {
          "output_type": "stream",
          "name": "stdout",
          "text": [
            "Mounted at /content/drive\n"
          ]
        }
      ]
    },
    {
      "cell_type": "code",
      "source": [
        "fileName = '/content/drive/MyDrive/Online Courses/Dicoding/ML Engineer Track/ML FinPro/dataset/'\n",
        "os.chdir(fileName)"
      ],
      "metadata": {
        "id": "GHCGNTyrM5fS"
      },
      "execution_count": null,
      "outputs": []
    },
    {
      "cell_type": "code",
      "source": [
        "# load clustered df file\n",
        "clustered_df = pd.read_csv('clustered_data.csv')\n",
        "clustered_df"
      ],
      "metadata": {
        "colab": {
          "base_uri": "https://localhost:8080/",
          "height": 443
        },
        "id": "h8oRkGuhEtrN",
        "outputId": "f23c529e-f93b-42c1-b0d2-3f4a75329538"
      },
      "execution_count": null,
      "outputs": [
        {
          "output_type": "execute_result",
          "data": {
            "text/plain": [
              "      CustomerAge  TransactionDate_hour  TransactionDate_hour_cos  \\\n",
              "0              70                    16             -5.000000e-01   \n",
              "1              68                    16             -5.000000e-01   \n",
              "2              19                    18             -1.836970e-16   \n",
              "3              26                    16             -5.000000e-01   \n",
              "4              26                    17             -2.588190e-01   \n",
              "...           ...                   ...                       ...   \n",
              "2507           33                    17             -2.588190e-01   \n",
              "2508           48                    17             -2.588190e-01   \n",
              "2509           56                    17             -2.588190e-01   \n",
              "2510           23                    16             -5.000000e-01   \n",
              "2511           24                    16             -5.000000e-01   \n",
              "\n",
              "      TransactionDate_hour_sin  AccountBalance  TransactionDate_month  \\\n",
              "0                    -0.866025         5112.21                      4   \n",
              "1                    -0.866025        13758.91                      6   \n",
              "2                    -1.000000         1122.35                      7   \n",
              "3                    -0.866025         8569.06                      5   \n",
              "4                    -0.965926         7429.40                     10   \n",
              "...                        ...             ...                    ...   \n",
              "2507                 -0.965926        12690.79                      4   \n",
              "2508                 -0.965926          254.75                      3   \n",
              "2509                 -0.965926         3382.91                      8   \n",
              "2510                 -0.866025         1776.91                      2   \n",
              "2511                 -0.866025          131.25                      2   \n",
              "\n",
              "      TransactionDate_month_sin  TransactionDate_month_cos  TransactionAmount  \\\n",
              "0                  8.660254e-01              -5.000000e-01              14.09   \n",
              "1                  1.224647e-16              -1.000000e+00             376.24   \n",
              "2                 -5.000000e-01              -8.660254e-01             126.29   \n",
              "3                  5.000000e-01              -8.660254e-01             184.50   \n",
              "4                 -8.660254e-01               5.000000e-01              13.45   \n",
              "...                         ...                        ...                ...   \n",
              "2507               8.660254e-01              -5.000000e-01             856.21   \n",
              "2508               1.000000e+00               6.123234e-17             251.54   \n",
              "2509              -8.660254e-01              -5.000000e-01              28.63   \n",
              "2510               8.660254e-01               5.000000e-01             185.97   \n",
              "2511               8.660254e-01               5.000000e-01             243.08   \n",
              "\n",
              "      TransactionDuration CustomerOccupation  Cluster  \n",
              "0                      81             Doctor        1  \n",
              "1                     141             Doctor        1  \n",
              "2                      56            Student        7  \n",
              "3                      25            Student        5  \n",
              "4                     198            Student        3  \n",
              "...                   ...                ...      ...  \n",
              "2507                  109             Doctor        2  \n",
              "2508                  177             Doctor        2  \n",
              "2509                  146            Retired        6  \n",
              "2510                   19            Student        5  \n",
              "2511                   93            Student        5  \n",
              "\n",
              "[2512 rows x 12 columns]"
            ],
            "text/html": [
              "\n",
              "  <div id=\"df-fa186611-6ae1-400f-ae43-f8b8caf49d66\" class=\"colab-df-container\">\n",
              "    <div>\n",
              "<style scoped>\n",
              "    .dataframe tbody tr th:only-of-type {\n",
              "        vertical-align: middle;\n",
              "    }\n",
              "\n",
              "    .dataframe tbody tr th {\n",
              "        vertical-align: top;\n",
              "    }\n",
              "\n",
              "    .dataframe thead th {\n",
              "        text-align: right;\n",
              "    }\n",
              "</style>\n",
              "<table border=\"1\" class=\"dataframe\">\n",
              "  <thead>\n",
              "    <tr style=\"text-align: right;\">\n",
              "      <th></th>\n",
              "      <th>CustomerAge</th>\n",
              "      <th>TransactionDate_hour</th>\n",
              "      <th>TransactionDate_hour_cos</th>\n",
              "      <th>TransactionDate_hour_sin</th>\n",
              "      <th>AccountBalance</th>\n",
              "      <th>TransactionDate_month</th>\n",
              "      <th>TransactionDate_month_sin</th>\n",
              "      <th>TransactionDate_month_cos</th>\n",
              "      <th>TransactionAmount</th>\n",
              "      <th>TransactionDuration</th>\n",
              "      <th>CustomerOccupation</th>\n",
              "      <th>Cluster</th>\n",
              "    </tr>\n",
              "  </thead>\n",
              "  <tbody>\n",
              "    <tr>\n",
              "      <th>0</th>\n",
              "      <td>70</td>\n",
              "      <td>16</td>\n",
              "      <td>-5.000000e-01</td>\n",
              "      <td>-0.866025</td>\n",
              "      <td>5112.21</td>\n",
              "      <td>4</td>\n",
              "      <td>8.660254e-01</td>\n",
              "      <td>-5.000000e-01</td>\n",
              "      <td>14.09</td>\n",
              "      <td>81</td>\n",
              "      <td>Doctor</td>\n",
              "      <td>1</td>\n",
              "    </tr>\n",
              "    <tr>\n",
              "      <th>1</th>\n",
              "      <td>68</td>\n",
              "      <td>16</td>\n",
              "      <td>-5.000000e-01</td>\n",
              "      <td>-0.866025</td>\n",
              "      <td>13758.91</td>\n",
              "      <td>6</td>\n",
              "      <td>1.224647e-16</td>\n",
              "      <td>-1.000000e+00</td>\n",
              "      <td>376.24</td>\n",
              "      <td>141</td>\n",
              "      <td>Doctor</td>\n",
              "      <td>1</td>\n",
              "    </tr>\n",
              "    <tr>\n",
              "      <th>2</th>\n",
              "      <td>19</td>\n",
              "      <td>18</td>\n",
              "      <td>-1.836970e-16</td>\n",
              "      <td>-1.000000</td>\n",
              "      <td>1122.35</td>\n",
              "      <td>7</td>\n",
              "      <td>-5.000000e-01</td>\n",
              "      <td>-8.660254e-01</td>\n",
              "      <td>126.29</td>\n",
              "      <td>56</td>\n",
              "      <td>Student</td>\n",
              "      <td>7</td>\n",
              "    </tr>\n",
              "    <tr>\n",
              "      <th>3</th>\n",
              "      <td>26</td>\n",
              "      <td>16</td>\n",
              "      <td>-5.000000e-01</td>\n",
              "      <td>-0.866025</td>\n",
              "      <td>8569.06</td>\n",
              "      <td>5</td>\n",
              "      <td>5.000000e-01</td>\n",
              "      <td>-8.660254e-01</td>\n",
              "      <td>184.50</td>\n",
              "      <td>25</td>\n",
              "      <td>Student</td>\n",
              "      <td>5</td>\n",
              "    </tr>\n",
              "    <tr>\n",
              "      <th>4</th>\n",
              "      <td>26</td>\n",
              "      <td>17</td>\n",
              "      <td>-2.588190e-01</td>\n",
              "      <td>-0.965926</td>\n",
              "      <td>7429.40</td>\n",
              "      <td>10</td>\n",
              "      <td>-8.660254e-01</td>\n",
              "      <td>5.000000e-01</td>\n",
              "      <td>13.45</td>\n",
              "      <td>198</td>\n",
              "      <td>Student</td>\n",
              "      <td>3</td>\n",
              "    </tr>\n",
              "    <tr>\n",
              "      <th>...</th>\n",
              "      <td>...</td>\n",
              "      <td>...</td>\n",
              "      <td>...</td>\n",
              "      <td>...</td>\n",
              "      <td>...</td>\n",
              "      <td>...</td>\n",
              "      <td>...</td>\n",
              "      <td>...</td>\n",
              "      <td>...</td>\n",
              "      <td>...</td>\n",
              "      <td>...</td>\n",
              "      <td>...</td>\n",
              "    </tr>\n",
              "    <tr>\n",
              "      <th>2507</th>\n",
              "      <td>33</td>\n",
              "      <td>17</td>\n",
              "      <td>-2.588190e-01</td>\n",
              "      <td>-0.965926</td>\n",
              "      <td>12690.79</td>\n",
              "      <td>4</td>\n",
              "      <td>8.660254e-01</td>\n",
              "      <td>-5.000000e-01</td>\n",
              "      <td>856.21</td>\n",
              "      <td>109</td>\n",
              "      <td>Doctor</td>\n",
              "      <td>2</td>\n",
              "    </tr>\n",
              "    <tr>\n",
              "      <th>2508</th>\n",
              "      <td>48</td>\n",
              "      <td>17</td>\n",
              "      <td>-2.588190e-01</td>\n",
              "      <td>-0.965926</td>\n",
              "      <td>254.75</td>\n",
              "      <td>3</td>\n",
              "      <td>1.000000e+00</td>\n",
              "      <td>6.123234e-17</td>\n",
              "      <td>251.54</td>\n",
              "      <td>177</td>\n",
              "      <td>Doctor</td>\n",
              "      <td>2</td>\n",
              "    </tr>\n",
              "    <tr>\n",
              "      <th>2509</th>\n",
              "      <td>56</td>\n",
              "      <td>17</td>\n",
              "      <td>-2.588190e-01</td>\n",
              "      <td>-0.965926</td>\n",
              "      <td>3382.91</td>\n",
              "      <td>8</td>\n",
              "      <td>-8.660254e-01</td>\n",
              "      <td>-5.000000e-01</td>\n",
              "      <td>28.63</td>\n",
              "      <td>146</td>\n",
              "      <td>Retired</td>\n",
              "      <td>6</td>\n",
              "    </tr>\n",
              "    <tr>\n",
              "      <th>2510</th>\n",
              "      <td>23</td>\n",
              "      <td>16</td>\n",
              "      <td>-5.000000e-01</td>\n",
              "      <td>-0.866025</td>\n",
              "      <td>1776.91</td>\n",
              "      <td>2</td>\n",
              "      <td>8.660254e-01</td>\n",
              "      <td>5.000000e-01</td>\n",
              "      <td>185.97</td>\n",
              "      <td>19</td>\n",
              "      <td>Student</td>\n",
              "      <td>5</td>\n",
              "    </tr>\n",
              "    <tr>\n",
              "      <th>2511</th>\n",
              "      <td>24</td>\n",
              "      <td>16</td>\n",
              "      <td>-5.000000e-01</td>\n",
              "      <td>-0.866025</td>\n",
              "      <td>131.25</td>\n",
              "      <td>2</td>\n",
              "      <td>8.660254e-01</td>\n",
              "      <td>5.000000e-01</td>\n",
              "      <td>243.08</td>\n",
              "      <td>93</td>\n",
              "      <td>Student</td>\n",
              "      <td>5</td>\n",
              "    </tr>\n",
              "  </tbody>\n",
              "</table>\n",
              "<p>2512 rows × 12 columns</p>\n",
              "</div>\n",
              "    <div class=\"colab-df-buttons\">\n",
              "\n",
              "  <div class=\"colab-df-container\">\n",
              "    <button class=\"colab-df-convert\" onclick=\"convertToInteractive('df-fa186611-6ae1-400f-ae43-f8b8caf49d66')\"\n",
              "            title=\"Convert this dataframe to an interactive table.\"\n",
              "            style=\"display:none;\">\n",
              "\n",
              "  <svg xmlns=\"http://www.w3.org/2000/svg\" height=\"24px\" viewBox=\"0 -960 960 960\">\n",
              "    <path d=\"M120-120v-720h720v720H120Zm60-500h600v-160H180v160Zm220 220h160v-160H400v160Zm0 220h160v-160H400v160ZM180-400h160v-160H180v160Zm440 0h160v-160H620v160ZM180-180h160v-160H180v160Zm440 0h160v-160H620v160Z\"/>\n",
              "  </svg>\n",
              "    </button>\n",
              "\n",
              "  <style>\n",
              "    .colab-df-container {\n",
              "      display:flex;\n",
              "      gap: 12px;\n",
              "    }\n",
              "\n",
              "    .colab-df-convert {\n",
              "      background-color: #E8F0FE;\n",
              "      border: none;\n",
              "      border-radius: 50%;\n",
              "      cursor: pointer;\n",
              "      display: none;\n",
              "      fill: #1967D2;\n",
              "      height: 32px;\n",
              "      padding: 0 0 0 0;\n",
              "      width: 32px;\n",
              "    }\n",
              "\n",
              "    .colab-df-convert:hover {\n",
              "      background-color: #E2EBFA;\n",
              "      box-shadow: 0px 1px 2px rgba(60, 64, 67, 0.3), 0px 1px 3px 1px rgba(60, 64, 67, 0.15);\n",
              "      fill: #174EA6;\n",
              "    }\n",
              "\n",
              "    .colab-df-buttons div {\n",
              "      margin-bottom: 4px;\n",
              "    }\n",
              "\n",
              "    [theme=dark] .colab-df-convert {\n",
              "      background-color: #3B4455;\n",
              "      fill: #D2E3FC;\n",
              "    }\n",
              "\n",
              "    [theme=dark] .colab-df-convert:hover {\n",
              "      background-color: #434B5C;\n",
              "      box-shadow: 0px 1px 3px 1px rgba(0, 0, 0, 0.15);\n",
              "      filter: drop-shadow(0px 1px 2px rgba(0, 0, 0, 0.3));\n",
              "      fill: #FFFFFF;\n",
              "    }\n",
              "  </style>\n",
              "\n",
              "    <script>\n",
              "      const buttonEl =\n",
              "        document.querySelector('#df-fa186611-6ae1-400f-ae43-f8b8caf49d66 button.colab-df-convert');\n",
              "      buttonEl.style.display =\n",
              "        google.colab.kernel.accessAllowed ? 'block' : 'none';\n",
              "\n",
              "      async function convertToInteractive(key) {\n",
              "        const element = document.querySelector('#df-fa186611-6ae1-400f-ae43-f8b8caf49d66');\n",
              "        const dataTable =\n",
              "          await google.colab.kernel.invokeFunction('convertToInteractive',\n",
              "                                                    [key], {});\n",
              "        if (!dataTable) return;\n",
              "\n",
              "        const docLinkHtml = 'Like what you see? Visit the ' +\n",
              "          '<a target=\"_blank\" href=https://colab.research.google.com/notebooks/data_table.ipynb>data table notebook</a>'\n",
              "          + ' to learn more about interactive tables.';\n",
              "        element.innerHTML = '';\n",
              "        dataTable['output_type'] = 'display_data';\n",
              "        await google.colab.output.renderOutput(dataTable, element);\n",
              "        const docLink = document.createElement('div');\n",
              "        docLink.innerHTML = docLinkHtml;\n",
              "        element.appendChild(docLink);\n",
              "      }\n",
              "    </script>\n",
              "  </div>\n",
              "\n",
              "\n",
              "<div id=\"df-2c9b367a-f8a2-49d6-bb59-25ed025a9e47\">\n",
              "  <button class=\"colab-df-quickchart\" onclick=\"quickchart('df-2c9b367a-f8a2-49d6-bb59-25ed025a9e47')\"\n",
              "            title=\"Suggest charts\"\n",
              "            style=\"display:none;\">\n",
              "\n",
              "<svg xmlns=\"http://www.w3.org/2000/svg\" height=\"24px\"viewBox=\"0 0 24 24\"\n",
              "     width=\"24px\">\n",
              "    <g>\n",
              "        <path d=\"M19 3H5c-1.1 0-2 .9-2 2v14c0 1.1.9 2 2 2h14c1.1 0 2-.9 2-2V5c0-1.1-.9-2-2-2zM9 17H7v-7h2v7zm4 0h-2V7h2v10zm4 0h-2v-4h2v4z\"/>\n",
              "    </g>\n",
              "</svg>\n",
              "  </button>\n",
              "\n",
              "<style>\n",
              "  .colab-df-quickchart {\n",
              "      --bg-color: #E8F0FE;\n",
              "      --fill-color: #1967D2;\n",
              "      --hover-bg-color: #E2EBFA;\n",
              "      --hover-fill-color: #174EA6;\n",
              "      --disabled-fill-color: #AAA;\n",
              "      --disabled-bg-color: #DDD;\n",
              "  }\n",
              "\n",
              "  [theme=dark] .colab-df-quickchart {\n",
              "      --bg-color: #3B4455;\n",
              "      --fill-color: #D2E3FC;\n",
              "      --hover-bg-color: #434B5C;\n",
              "      --hover-fill-color: #FFFFFF;\n",
              "      --disabled-bg-color: #3B4455;\n",
              "      --disabled-fill-color: #666;\n",
              "  }\n",
              "\n",
              "  .colab-df-quickchart {\n",
              "    background-color: var(--bg-color);\n",
              "    border: none;\n",
              "    border-radius: 50%;\n",
              "    cursor: pointer;\n",
              "    display: none;\n",
              "    fill: var(--fill-color);\n",
              "    height: 32px;\n",
              "    padding: 0;\n",
              "    width: 32px;\n",
              "  }\n",
              "\n",
              "  .colab-df-quickchart:hover {\n",
              "    background-color: var(--hover-bg-color);\n",
              "    box-shadow: 0 1px 2px rgba(60, 64, 67, 0.3), 0 1px 3px 1px rgba(60, 64, 67, 0.15);\n",
              "    fill: var(--button-hover-fill-color);\n",
              "  }\n",
              "\n",
              "  .colab-df-quickchart-complete:disabled,\n",
              "  .colab-df-quickchart-complete:disabled:hover {\n",
              "    background-color: var(--disabled-bg-color);\n",
              "    fill: var(--disabled-fill-color);\n",
              "    box-shadow: none;\n",
              "  }\n",
              "\n",
              "  .colab-df-spinner {\n",
              "    border: 2px solid var(--fill-color);\n",
              "    border-color: transparent;\n",
              "    border-bottom-color: var(--fill-color);\n",
              "    animation:\n",
              "      spin 1s steps(1) infinite;\n",
              "  }\n",
              "\n",
              "  @keyframes spin {\n",
              "    0% {\n",
              "      border-color: transparent;\n",
              "      border-bottom-color: var(--fill-color);\n",
              "      border-left-color: var(--fill-color);\n",
              "    }\n",
              "    20% {\n",
              "      border-color: transparent;\n",
              "      border-left-color: var(--fill-color);\n",
              "      border-top-color: var(--fill-color);\n",
              "    }\n",
              "    30% {\n",
              "      border-color: transparent;\n",
              "      border-left-color: var(--fill-color);\n",
              "      border-top-color: var(--fill-color);\n",
              "      border-right-color: var(--fill-color);\n",
              "    }\n",
              "    40% {\n",
              "      border-color: transparent;\n",
              "      border-right-color: var(--fill-color);\n",
              "      border-top-color: var(--fill-color);\n",
              "    }\n",
              "    60% {\n",
              "      border-color: transparent;\n",
              "      border-right-color: var(--fill-color);\n",
              "    }\n",
              "    80% {\n",
              "      border-color: transparent;\n",
              "      border-right-color: var(--fill-color);\n",
              "      border-bottom-color: var(--fill-color);\n",
              "    }\n",
              "    90% {\n",
              "      border-color: transparent;\n",
              "      border-bottom-color: var(--fill-color);\n",
              "    }\n",
              "  }\n",
              "</style>\n",
              "\n",
              "  <script>\n",
              "    async function quickchart(key) {\n",
              "      const quickchartButtonEl =\n",
              "        document.querySelector('#' + key + ' button');\n",
              "      quickchartButtonEl.disabled = true;  // To prevent multiple clicks.\n",
              "      quickchartButtonEl.classList.add('colab-df-spinner');\n",
              "      try {\n",
              "        const charts = await google.colab.kernel.invokeFunction(\n",
              "            'suggestCharts', [key], {});\n",
              "      } catch (error) {\n",
              "        console.error('Error during call to suggestCharts:', error);\n",
              "      }\n",
              "      quickchartButtonEl.classList.remove('colab-df-spinner');\n",
              "      quickchartButtonEl.classList.add('colab-df-quickchart-complete');\n",
              "    }\n",
              "    (() => {\n",
              "      let quickchartButtonEl =\n",
              "        document.querySelector('#df-2c9b367a-f8a2-49d6-bb59-25ed025a9e47 button');\n",
              "      quickchartButtonEl.style.display =\n",
              "        google.colab.kernel.accessAllowed ? 'block' : 'none';\n",
              "    })();\n",
              "  </script>\n",
              "</div>\n",
              "\n",
              "  <div id=\"id_decc8560-98d2-4169-ad07-dbf43944439b\">\n",
              "    <style>\n",
              "      .colab-df-generate {\n",
              "        background-color: #E8F0FE;\n",
              "        border: none;\n",
              "        border-radius: 50%;\n",
              "        cursor: pointer;\n",
              "        display: none;\n",
              "        fill: #1967D2;\n",
              "        height: 32px;\n",
              "        padding: 0 0 0 0;\n",
              "        width: 32px;\n",
              "      }\n",
              "\n",
              "      .colab-df-generate:hover {\n",
              "        background-color: #E2EBFA;\n",
              "        box-shadow: 0px 1px 2px rgba(60, 64, 67, 0.3), 0px 1px 3px 1px rgba(60, 64, 67, 0.15);\n",
              "        fill: #174EA6;\n",
              "      }\n",
              "\n",
              "      [theme=dark] .colab-df-generate {\n",
              "        background-color: #3B4455;\n",
              "        fill: #D2E3FC;\n",
              "      }\n",
              "\n",
              "      [theme=dark] .colab-df-generate:hover {\n",
              "        background-color: #434B5C;\n",
              "        box-shadow: 0px 1px 3px 1px rgba(0, 0, 0, 0.15);\n",
              "        filter: drop-shadow(0px 1px 2px rgba(0, 0, 0, 0.3));\n",
              "        fill: #FFFFFF;\n",
              "      }\n",
              "    </style>\n",
              "    <button class=\"colab-df-generate\" onclick=\"generateWithVariable('clustered_df')\"\n",
              "            title=\"Generate code using this dataframe.\"\n",
              "            style=\"display:none;\">\n",
              "\n",
              "  <svg xmlns=\"http://www.w3.org/2000/svg\" height=\"24px\"viewBox=\"0 0 24 24\"\n",
              "       width=\"24px\">\n",
              "    <path d=\"M7,19H8.4L18.45,9,17,7.55,7,17.6ZM5,21V16.75L18.45,3.32a2,2,0,0,1,2.83,0l1.4,1.43a1.91,1.91,0,0,1,.58,1.4,1.91,1.91,0,0,1-.58,1.4L9.25,21ZM18.45,9,17,7.55Zm-12,3A5.31,5.31,0,0,0,4.9,8.1,5.31,5.31,0,0,0,1,6.5,5.31,5.31,0,0,0,4.9,4.9,5.31,5.31,0,0,0,6.5,1,5.31,5.31,0,0,0,8.1,4.9,5.31,5.31,0,0,0,12,6.5,5.46,5.46,0,0,0,6.5,12Z\"/>\n",
              "  </svg>\n",
              "    </button>\n",
              "    <script>\n",
              "      (() => {\n",
              "      const buttonEl =\n",
              "        document.querySelector('#id_decc8560-98d2-4169-ad07-dbf43944439b button.colab-df-generate');\n",
              "      buttonEl.style.display =\n",
              "        google.colab.kernel.accessAllowed ? 'block' : 'none';\n",
              "\n",
              "      buttonEl.onclick = () => {\n",
              "        google.colab.notebook.generateWithVariable('clustered_df');\n",
              "      }\n",
              "      })();\n",
              "    </script>\n",
              "  </div>\n",
              "\n",
              "    </div>\n",
              "  </div>\n"
            ],
            "application/vnd.google.colaboratory.intrinsic+json": {
              "type": "dataframe",
              "variable_name": "clustered_df",
              "summary": "{\n  \"name\": \"clustered_df\",\n  \"rows\": 2512,\n  \"fields\": [\n    {\n      \"column\": \"CustomerAge\",\n      \"properties\": {\n        \"dtype\": \"number\",\n        \"std\": 17,\n        \"min\": 18,\n        \"max\": 80,\n        \"num_unique_values\": 63,\n        \"samples\": [\n          73,\n          77,\n          70\n        ],\n        \"semantic_type\": \"\",\n        \"description\": \"\"\n      }\n    },\n    {\n      \"column\": \"TransactionDate_hour\",\n      \"properties\": {\n        \"dtype\": \"number\",\n        \"std\": 0,\n        \"min\": 16,\n        \"max\": 18,\n        \"num_unique_values\": 3,\n        \"samples\": [\n          16,\n          18,\n          17\n        ],\n        \"semantic_type\": \"\",\n        \"description\": \"\"\n      }\n    },\n    {\n      \"column\": \"TransactionDate_hour_cos\",\n      \"properties\": {\n        \"dtype\": \"number\",\n        \"std\": 0.1813350911566938,\n        \"min\": -0.5000000000000004,\n        \"max\": -1.8369701987210294e-16,\n        \"num_unique_values\": 3,\n        \"samples\": [\n          -0.5000000000000004,\n          -1.8369701987210294e-16,\n          -0.2588190451025206\n        ],\n        \"semantic_type\": \"\",\n        \"description\": \"\"\n      }\n    },\n    {\n      \"column\": \"TransactionDate_hour_sin\",\n      \"properties\": {\n        \"dtype\": \"number\",\n        \"std\": 0.05633801014901061,\n        \"min\": -1.0,\n        \"max\": -0.8660254037844384,\n        \"num_unique_values\": 3,\n        \"samples\": [\n          -0.8660254037844384,\n          -1.0,\n          -0.9659258262890684\n        ],\n        \"semantic_type\": \"\",\n        \"description\": \"\"\n      }\n    },\n    {\n      \"column\": \"AccountBalance\",\n      \"properties\": {\n        \"dtype\": \"number\",\n        \"std\": 3900.9424987311,\n        \"min\": 101.25,\n        \"max\": 14977.99,\n        \"num_unique_values\": 2510,\n        \"samples\": [\n          2018.9,\n          3651.07,\n          5400.44\n        ],\n        \"semantic_type\": \"\",\n        \"description\": \"\"\n      }\n    },\n    {\n      \"column\": \"TransactionDate_month\",\n      \"properties\": {\n        \"dtype\": \"number\",\n        \"std\": 3,\n        \"min\": 1,\n        \"max\": 12,\n        \"num_unique_values\": 12,\n        \"samples\": [\n          1,\n          8,\n          4\n        ],\n        \"semantic_type\": \"\",\n        \"description\": \"\"\n      }\n    },\n    {\n      \"column\": \"TransactionDate_month_sin\",\n      \"properties\": {\n        \"dtype\": \"number\",\n        \"std\": 0.7041409621390015,\n        \"min\": -1.0,\n        \"max\": 1.0,\n        \"num_unique_values\": 11,\n        \"samples\": [\n          0.8660254037844386,\n          0.8660254037844387,\n          -0.8660254037844384\n        ],\n        \"semantic_type\": \"\",\n        \"description\": \"\"\n      }\n    },\n    {\n      \"column\": \"TransactionDate_month_cos\",\n      \"properties\": {\n        \"dtype\": \"number\",\n        \"std\": 0.7096307158860385,\n        \"min\": -1.0,\n        \"max\": 1.0,\n        \"num_unique_values\": 11,\n        \"samples\": [\n          6.123233995736766e-17,\n          -0.4999999999999998,\n          0.8660254037844387\n        ],\n        \"semantic_type\": \"\",\n        \"description\": \"\"\n      }\n    },\n    {\n      \"column\": \"TransactionAmount\",\n      \"properties\": {\n        \"dtype\": \"number\",\n        \"std\": 291.9462433824229,\n        \"min\": 0.26,\n        \"max\": 1919.11,\n        \"num_unique_values\": 2455,\n        \"samples\": [\n          124.74,\n          821.54,\n          19.11\n        ],\n        \"semantic_type\": \"\",\n        \"description\": \"\"\n      }\n    },\n    {\n      \"column\": \"TransactionDuration\",\n      \"properties\": {\n        \"dtype\": \"number\",\n        \"std\": 69,\n        \"min\": 10,\n        \"max\": 300,\n        \"num_unique_values\": 288,\n        \"samples\": [\n          138,\n          37,\n          71\n        ],\n        \"semantic_type\": \"\",\n        \"description\": \"\"\n      }\n    },\n    {\n      \"column\": \"CustomerOccupation\",\n      \"properties\": {\n        \"dtype\": \"category\",\n        \"num_unique_values\": 4,\n        \"samples\": [\n          \"Student\",\n          \"Engineer\",\n          \"Doctor\"\n        ],\n        \"semantic_type\": \"\",\n        \"description\": \"\"\n      }\n    },\n    {\n      \"column\": \"Cluster\",\n      \"properties\": {\n        \"dtype\": \"number\",\n        \"std\": 2,\n        \"min\": 1,\n        \"max\": 7,\n        \"num_unique_values\": 7,\n        \"samples\": [\n          1,\n          7,\n          4\n        ],\n        \"semantic_type\": \"\",\n        \"description\": \"\"\n      }\n    }\n  ]\n}"
            }
          },
          "metadata": {},
          "execution_count": 5
        }
      ]
    },
    {
      "cell_type": "code",
      "source": [
        "clustered_df.info()"
      ],
      "metadata": {
        "colab": {
          "base_uri": "https://localhost:8080/"
        },
        "id": "V4hPmF34FA74",
        "outputId": "491272c3-99c7-4c3b-c939-eeb7ae9add43"
      },
      "execution_count": null,
      "outputs": [
        {
          "output_type": "stream",
          "name": "stdout",
          "text": [
            "<class 'pandas.core.frame.DataFrame'>\n",
            "RangeIndex: 2512 entries, 0 to 2511\n",
            "Data columns (total 12 columns):\n",
            " #   Column                     Non-Null Count  Dtype  \n",
            "---  ------                     --------------  -----  \n",
            " 0   CustomerAge                2512 non-null   int64  \n",
            " 1   TransactionDate_hour       2512 non-null   int64  \n",
            " 2   TransactionDate_hour_cos   2512 non-null   float64\n",
            " 3   TransactionDate_hour_sin   2512 non-null   float64\n",
            " 4   AccountBalance             2512 non-null   float64\n",
            " 5   TransactionDate_month      2512 non-null   int64  \n",
            " 6   TransactionDate_month_sin  2512 non-null   float64\n",
            " 7   TransactionDate_month_cos  2512 non-null   float64\n",
            " 8   TransactionAmount          2512 non-null   float64\n",
            " 9   TransactionDuration        2512 non-null   int64  \n",
            " 10  CustomerOccupation         2512 non-null   object \n",
            " 11  Cluster                    2512 non-null   int64  \n",
            "dtypes: float64(6), int64(5), object(1)\n",
            "memory usage: 235.6+ KB\n"
          ]
        }
      ]
    },
    {
      "cell_type": "code",
      "source": [
        "# categorical encoding for CustomerOccupation\n",
        "from sklearn.preprocessing import OneHotEncoder\n",
        "\n",
        "encoder = OneHotEncoder(drop='first', sparse_output=False)\n",
        "encoded_df = pd.DataFrame(encoder.fit_transform(clustered_df[['CustomerOccupation']]),\n",
        "                          columns=encoder.get_feature_names_out(['CustomerOccupation']))\n",
        "\n",
        "df = pd.concat([clustered_df, encoded_df], axis=1)\n",
        "df = df.drop('CustomerOccupation', axis=1)"
      ],
      "metadata": {
        "id": "I_n3mmvKHnVc"
      },
      "execution_count": null,
      "outputs": []
    },
    {
      "cell_type": "code",
      "source": [
        "# separate target variable from features\n",
        "X = df.drop('Cluster', axis=1)\n",
        "y = df['Cluster']"
      ],
      "metadata": {
        "id": "K7tS5k0jFK34"
      },
      "execution_count": null,
      "outputs": []
    },
    {
      "cell_type": "code",
      "source": [
        "# check cluster proportions\n",
        "y.value_counts(normalize=True)"
      ],
      "metadata": {
        "colab": {
          "base_uri": "https://localhost:8080/",
          "height": 335
        },
        "id": "VAlnVAsqR0G3",
        "outputId": "90913e08-1df8-44ca-c4f4-cd34f9215f28"
      },
      "execution_count": null,
      "outputs": [
        {
          "output_type": "execute_result",
          "data": {
            "text/plain": [
              "Cluster\n",
              "1    0.385350\n",
              "5    0.138535\n",
              "6    0.120621\n",
              "2    0.119825\n",
              "4    0.109076\n",
              "3    0.085589\n",
              "7    0.041003\n",
              "Name: proportion, dtype: float64"
            ],
            "text/html": [
              "<div>\n",
              "<style scoped>\n",
              "    .dataframe tbody tr th:only-of-type {\n",
              "        vertical-align: middle;\n",
              "    }\n",
              "\n",
              "    .dataframe tbody tr th {\n",
              "        vertical-align: top;\n",
              "    }\n",
              "\n",
              "    .dataframe thead th {\n",
              "        text-align: right;\n",
              "    }\n",
              "</style>\n",
              "<table border=\"1\" class=\"dataframe\">\n",
              "  <thead>\n",
              "    <tr style=\"text-align: right;\">\n",
              "      <th></th>\n",
              "      <th>proportion</th>\n",
              "    </tr>\n",
              "    <tr>\n",
              "      <th>Cluster</th>\n",
              "      <th></th>\n",
              "    </tr>\n",
              "  </thead>\n",
              "  <tbody>\n",
              "    <tr>\n",
              "      <th>1</th>\n",
              "      <td>0.385350</td>\n",
              "    </tr>\n",
              "    <tr>\n",
              "      <th>5</th>\n",
              "      <td>0.138535</td>\n",
              "    </tr>\n",
              "    <tr>\n",
              "      <th>6</th>\n",
              "      <td>0.120621</td>\n",
              "    </tr>\n",
              "    <tr>\n",
              "      <th>2</th>\n",
              "      <td>0.119825</td>\n",
              "    </tr>\n",
              "    <tr>\n",
              "      <th>4</th>\n",
              "      <td>0.109076</td>\n",
              "    </tr>\n",
              "    <tr>\n",
              "      <th>3</th>\n",
              "      <td>0.085589</td>\n",
              "    </tr>\n",
              "    <tr>\n",
              "      <th>7</th>\n",
              "      <td>0.041003</td>\n",
              "    </tr>\n",
              "  </tbody>\n",
              "</table>\n",
              "</div><br><label><b>dtype:</b> float64</label>"
            ]
          },
          "metadata": {},
          "execution_count": 9
        }
      ]
    },
    {
      "cell_type": "markdown",
      "source": [
        "> Setelah diperiksa, ditemukan bahwa proposi pembagian kelas tidak seimbang. Oleh karena itu, untuk menghindari adanya kelas yang lebih mendominasi, dilakukan proses *resampling*."
      ],
      "metadata": {
        "id": "tzamjeKEc-zH"
      }
    },
    {
      "cell_type": "code",
      "source": [
        "# standardization\n",
        "from sklearn.preprocessing import StandardScaler\n",
        "scaler = StandardScaler()\n",
        "X_scaled = scaler.fit_transform(X)\n",
        "\n",
        "X_scaled = pd.DataFrame(X_scaled, columns=X.columns, index=X.index)\n",
        "X_scaled"
      ],
      "metadata": {
        "colab": {
          "base_uri": "https://localhost:8080/",
          "height": 443
        },
        "id": "YBNrSthMIyQu",
        "outputId": "0b0d2f46-0906-4796-b8ea-820352afc116"
      },
      "execution_count": null,
      "outputs": [
        {
          "output_type": "execute_result",
          "data": {
            "text/plain": [
              "      CustomerAge  TransactionDate_hour  TransactionDate_hour_cos  \\\n",
              "0        1.423718             -0.856729                 -0.847623   \n",
              "1        1.311287             -0.856729                 -0.847623   \n",
              "2       -1.443277              1.879574                  1.910252   \n",
              "3       -1.049768             -0.856729                 -0.847623   \n",
              "4       -1.049768              0.511423                  0.482671   \n",
              "...           ...                   ...                       ...   \n",
              "2507    -0.656259              0.511423                  0.482671   \n",
              "2508     0.186975              0.511423                  0.482671   \n",
              "2509     0.636700              0.511423                  0.482671   \n",
              "2510    -1.218415             -0.856729                 -0.847623   \n",
              "2511    -1.162199             -0.856729                 -0.847623   \n",
              "\n",
              "      TransactionDate_hour_sin  AccountBalance  TransactionDate_month  \\\n",
              "0                     0.935219       -0.000537              -0.737432   \n",
              "1                     0.935219        2.216472              -0.161875   \n",
              "2                    -1.443304       -1.023534               0.125903   \n",
              "3                     0.935219        0.885797              -0.449653   \n",
              "4                    -0.838367        0.593589               0.989238   \n",
              "...                        ...             ...                    ...   \n",
              "2507                 -0.838367        1.942606              -0.737432   \n",
              "2508                 -0.838367       -1.245986              -1.025210   \n",
              "2509                 -0.838367       -0.443928               0.413681   \n",
              "2510                  0.935219       -0.855705              -1.312988   \n",
              "2511                  0.935219       -1.277652              -1.312988   \n",
              "\n",
              "      TransactionDate_month_sin  TransactionDate_month_cos  TransactionAmount  \\\n",
              "0                      1.267745                  -0.729430          -0.971275   \n",
              "1                      0.037597                  -1.434162           0.269440   \n",
              "2                     -0.672630                  -1.245329          -0.586882   \n",
              "3                      0.747823                  -1.245329          -0.387456   \n",
              "4                     -1.192552                   0.680035          -0.973468   \n",
              "...                         ...                        ...                ...   \n",
              "2507                   1.267745                  -0.729430           1.913802   \n",
              "2508                   1.458050                  -0.024697          -0.157779   \n",
              "2509                  -1.192552                  -0.729430          -0.921462   \n",
              "2510                   1.267745                   0.680035          -0.382420   \n",
              "2511                   1.267745                   0.680035          -0.186763   \n",
              "\n",
              "      TransactionDuration  CustomerOccupation_Engineer  \\\n",
              "0               -0.552443                    -0.575512   \n",
              "1                0.305314                    -0.575512   \n",
              "2               -0.909842                    -0.575512   \n",
              "3               -1.353017                    -0.575512   \n",
              "4                1.120184                    -0.575512   \n",
              "...                   ...                          ...   \n",
              "2507            -0.152156                    -0.575512   \n",
              "2508             0.819969                    -0.575512   \n",
              "2509             0.376794                    -0.575512   \n",
              "2510            -1.438793                    -0.575512   \n",
              "2511            -0.380892                    -0.575512   \n",
              "\n",
              "      CustomerOccupation_Retired  CustomerOccupation_Student  \n",
              "0                      -0.559572                   -0.595128  \n",
              "1                      -0.559572                   -0.595128  \n",
              "2                      -0.559572                    1.680309  \n",
              "3                      -0.559572                    1.680309  \n",
              "4                      -0.559572                    1.680309  \n",
              "...                          ...                         ...  \n",
              "2507                   -0.559572                   -0.595128  \n",
              "2508                   -0.559572                   -0.595128  \n",
              "2509                    1.787080                   -0.595128  \n",
              "2510                   -0.559572                    1.680309  \n",
              "2511                   -0.559572                    1.680309  \n",
              "\n",
              "[2512 rows x 13 columns]"
            ],
            "text/html": [
              "\n",
              "  <div id=\"df-5d8a730e-1717-41d3-8579-9d59a4951ca9\" class=\"colab-df-container\">\n",
              "    <div>\n",
              "<style scoped>\n",
              "    .dataframe tbody tr th:only-of-type {\n",
              "        vertical-align: middle;\n",
              "    }\n",
              "\n",
              "    .dataframe tbody tr th {\n",
              "        vertical-align: top;\n",
              "    }\n",
              "\n",
              "    .dataframe thead th {\n",
              "        text-align: right;\n",
              "    }\n",
              "</style>\n",
              "<table border=\"1\" class=\"dataframe\">\n",
              "  <thead>\n",
              "    <tr style=\"text-align: right;\">\n",
              "      <th></th>\n",
              "      <th>CustomerAge</th>\n",
              "      <th>TransactionDate_hour</th>\n",
              "      <th>TransactionDate_hour_cos</th>\n",
              "      <th>TransactionDate_hour_sin</th>\n",
              "      <th>AccountBalance</th>\n",
              "      <th>TransactionDate_month</th>\n",
              "      <th>TransactionDate_month_sin</th>\n",
              "      <th>TransactionDate_month_cos</th>\n",
              "      <th>TransactionAmount</th>\n",
              "      <th>TransactionDuration</th>\n",
              "      <th>CustomerOccupation_Engineer</th>\n",
              "      <th>CustomerOccupation_Retired</th>\n",
              "      <th>CustomerOccupation_Student</th>\n",
              "    </tr>\n",
              "  </thead>\n",
              "  <tbody>\n",
              "    <tr>\n",
              "      <th>0</th>\n",
              "      <td>1.423718</td>\n",
              "      <td>-0.856729</td>\n",
              "      <td>-0.847623</td>\n",
              "      <td>0.935219</td>\n",
              "      <td>-0.000537</td>\n",
              "      <td>-0.737432</td>\n",
              "      <td>1.267745</td>\n",
              "      <td>-0.729430</td>\n",
              "      <td>-0.971275</td>\n",
              "      <td>-0.552443</td>\n",
              "      <td>-0.575512</td>\n",
              "      <td>-0.559572</td>\n",
              "      <td>-0.595128</td>\n",
              "    </tr>\n",
              "    <tr>\n",
              "      <th>1</th>\n",
              "      <td>1.311287</td>\n",
              "      <td>-0.856729</td>\n",
              "      <td>-0.847623</td>\n",
              "      <td>0.935219</td>\n",
              "      <td>2.216472</td>\n",
              "      <td>-0.161875</td>\n",
              "      <td>0.037597</td>\n",
              "      <td>-1.434162</td>\n",
              "      <td>0.269440</td>\n",
              "      <td>0.305314</td>\n",
              "      <td>-0.575512</td>\n",
              "      <td>-0.559572</td>\n",
              "      <td>-0.595128</td>\n",
              "    </tr>\n",
              "    <tr>\n",
              "      <th>2</th>\n",
              "      <td>-1.443277</td>\n",
              "      <td>1.879574</td>\n",
              "      <td>1.910252</td>\n",
              "      <td>-1.443304</td>\n",
              "      <td>-1.023534</td>\n",
              "      <td>0.125903</td>\n",
              "      <td>-0.672630</td>\n",
              "      <td>-1.245329</td>\n",
              "      <td>-0.586882</td>\n",
              "      <td>-0.909842</td>\n",
              "      <td>-0.575512</td>\n",
              "      <td>-0.559572</td>\n",
              "      <td>1.680309</td>\n",
              "    </tr>\n",
              "    <tr>\n",
              "      <th>3</th>\n",
              "      <td>-1.049768</td>\n",
              "      <td>-0.856729</td>\n",
              "      <td>-0.847623</td>\n",
              "      <td>0.935219</td>\n",
              "      <td>0.885797</td>\n",
              "      <td>-0.449653</td>\n",
              "      <td>0.747823</td>\n",
              "      <td>-1.245329</td>\n",
              "      <td>-0.387456</td>\n",
              "      <td>-1.353017</td>\n",
              "      <td>-0.575512</td>\n",
              "      <td>-0.559572</td>\n",
              "      <td>1.680309</td>\n",
              "    </tr>\n",
              "    <tr>\n",
              "      <th>4</th>\n",
              "      <td>-1.049768</td>\n",
              "      <td>0.511423</td>\n",
              "      <td>0.482671</td>\n",
              "      <td>-0.838367</td>\n",
              "      <td>0.593589</td>\n",
              "      <td>0.989238</td>\n",
              "      <td>-1.192552</td>\n",
              "      <td>0.680035</td>\n",
              "      <td>-0.973468</td>\n",
              "      <td>1.120184</td>\n",
              "      <td>-0.575512</td>\n",
              "      <td>-0.559572</td>\n",
              "      <td>1.680309</td>\n",
              "    </tr>\n",
              "    <tr>\n",
              "      <th>...</th>\n",
              "      <td>...</td>\n",
              "      <td>...</td>\n",
              "      <td>...</td>\n",
              "      <td>...</td>\n",
              "      <td>...</td>\n",
              "      <td>...</td>\n",
              "      <td>...</td>\n",
              "      <td>...</td>\n",
              "      <td>...</td>\n",
              "      <td>...</td>\n",
              "      <td>...</td>\n",
              "      <td>...</td>\n",
              "      <td>...</td>\n",
              "    </tr>\n",
              "    <tr>\n",
              "      <th>2507</th>\n",
              "      <td>-0.656259</td>\n",
              "      <td>0.511423</td>\n",
              "      <td>0.482671</td>\n",
              "      <td>-0.838367</td>\n",
              "      <td>1.942606</td>\n",
              "      <td>-0.737432</td>\n",
              "      <td>1.267745</td>\n",
              "      <td>-0.729430</td>\n",
              "      <td>1.913802</td>\n",
              "      <td>-0.152156</td>\n",
              "      <td>-0.575512</td>\n",
              "      <td>-0.559572</td>\n",
              "      <td>-0.595128</td>\n",
              "    </tr>\n",
              "    <tr>\n",
              "      <th>2508</th>\n",
              "      <td>0.186975</td>\n",
              "      <td>0.511423</td>\n",
              "      <td>0.482671</td>\n",
              "      <td>-0.838367</td>\n",
              "      <td>-1.245986</td>\n",
              "      <td>-1.025210</td>\n",
              "      <td>1.458050</td>\n",
              "      <td>-0.024697</td>\n",
              "      <td>-0.157779</td>\n",
              "      <td>0.819969</td>\n",
              "      <td>-0.575512</td>\n",
              "      <td>-0.559572</td>\n",
              "      <td>-0.595128</td>\n",
              "    </tr>\n",
              "    <tr>\n",
              "      <th>2509</th>\n",
              "      <td>0.636700</td>\n",
              "      <td>0.511423</td>\n",
              "      <td>0.482671</td>\n",
              "      <td>-0.838367</td>\n",
              "      <td>-0.443928</td>\n",
              "      <td>0.413681</td>\n",
              "      <td>-1.192552</td>\n",
              "      <td>-0.729430</td>\n",
              "      <td>-0.921462</td>\n",
              "      <td>0.376794</td>\n",
              "      <td>-0.575512</td>\n",
              "      <td>1.787080</td>\n",
              "      <td>-0.595128</td>\n",
              "    </tr>\n",
              "    <tr>\n",
              "      <th>2510</th>\n",
              "      <td>-1.218415</td>\n",
              "      <td>-0.856729</td>\n",
              "      <td>-0.847623</td>\n",
              "      <td>0.935219</td>\n",
              "      <td>-0.855705</td>\n",
              "      <td>-1.312988</td>\n",
              "      <td>1.267745</td>\n",
              "      <td>0.680035</td>\n",
              "      <td>-0.382420</td>\n",
              "      <td>-1.438793</td>\n",
              "      <td>-0.575512</td>\n",
              "      <td>-0.559572</td>\n",
              "      <td>1.680309</td>\n",
              "    </tr>\n",
              "    <tr>\n",
              "      <th>2511</th>\n",
              "      <td>-1.162199</td>\n",
              "      <td>-0.856729</td>\n",
              "      <td>-0.847623</td>\n",
              "      <td>0.935219</td>\n",
              "      <td>-1.277652</td>\n",
              "      <td>-1.312988</td>\n",
              "      <td>1.267745</td>\n",
              "      <td>0.680035</td>\n",
              "      <td>-0.186763</td>\n",
              "      <td>-0.380892</td>\n",
              "      <td>-0.575512</td>\n",
              "      <td>-0.559572</td>\n",
              "      <td>1.680309</td>\n",
              "    </tr>\n",
              "  </tbody>\n",
              "</table>\n",
              "<p>2512 rows × 13 columns</p>\n",
              "</div>\n",
              "    <div class=\"colab-df-buttons\">\n",
              "\n",
              "  <div class=\"colab-df-container\">\n",
              "    <button class=\"colab-df-convert\" onclick=\"convertToInteractive('df-5d8a730e-1717-41d3-8579-9d59a4951ca9')\"\n",
              "            title=\"Convert this dataframe to an interactive table.\"\n",
              "            style=\"display:none;\">\n",
              "\n",
              "  <svg xmlns=\"http://www.w3.org/2000/svg\" height=\"24px\" viewBox=\"0 -960 960 960\">\n",
              "    <path d=\"M120-120v-720h720v720H120Zm60-500h600v-160H180v160Zm220 220h160v-160H400v160Zm0 220h160v-160H400v160ZM180-400h160v-160H180v160Zm440 0h160v-160H620v160ZM180-180h160v-160H180v160Zm440 0h160v-160H620v160Z\"/>\n",
              "  </svg>\n",
              "    </button>\n",
              "\n",
              "  <style>\n",
              "    .colab-df-container {\n",
              "      display:flex;\n",
              "      gap: 12px;\n",
              "    }\n",
              "\n",
              "    .colab-df-convert {\n",
              "      background-color: #E8F0FE;\n",
              "      border: none;\n",
              "      border-radius: 50%;\n",
              "      cursor: pointer;\n",
              "      display: none;\n",
              "      fill: #1967D2;\n",
              "      height: 32px;\n",
              "      padding: 0 0 0 0;\n",
              "      width: 32px;\n",
              "    }\n",
              "\n",
              "    .colab-df-convert:hover {\n",
              "      background-color: #E2EBFA;\n",
              "      box-shadow: 0px 1px 2px rgba(60, 64, 67, 0.3), 0px 1px 3px 1px rgba(60, 64, 67, 0.15);\n",
              "      fill: #174EA6;\n",
              "    }\n",
              "\n",
              "    .colab-df-buttons div {\n",
              "      margin-bottom: 4px;\n",
              "    }\n",
              "\n",
              "    [theme=dark] .colab-df-convert {\n",
              "      background-color: #3B4455;\n",
              "      fill: #D2E3FC;\n",
              "    }\n",
              "\n",
              "    [theme=dark] .colab-df-convert:hover {\n",
              "      background-color: #434B5C;\n",
              "      box-shadow: 0px 1px 3px 1px rgba(0, 0, 0, 0.15);\n",
              "      filter: drop-shadow(0px 1px 2px rgba(0, 0, 0, 0.3));\n",
              "      fill: #FFFFFF;\n",
              "    }\n",
              "  </style>\n",
              "\n",
              "    <script>\n",
              "      const buttonEl =\n",
              "        document.querySelector('#df-5d8a730e-1717-41d3-8579-9d59a4951ca9 button.colab-df-convert');\n",
              "      buttonEl.style.display =\n",
              "        google.colab.kernel.accessAllowed ? 'block' : 'none';\n",
              "\n",
              "      async function convertToInteractive(key) {\n",
              "        const element = document.querySelector('#df-5d8a730e-1717-41d3-8579-9d59a4951ca9');\n",
              "        const dataTable =\n",
              "          await google.colab.kernel.invokeFunction('convertToInteractive',\n",
              "                                                    [key], {});\n",
              "        if (!dataTable) return;\n",
              "\n",
              "        const docLinkHtml = 'Like what you see? Visit the ' +\n",
              "          '<a target=\"_blank\" href=https://colab.research.google.com/notebooks/data_table.ipynb>data table notebook</a>'\n",
              "          + ' to learn more about interactive tables.';\n",
              "        element.innerHTML = '';\n",
              "        dataTable['output_type'] = 'display_data';\n",
              "        await google.colab.output.renderOutput(dataTable, element);\n",
              "        const docLink = document.createElement('div');\n",
              "        docLink.innerHTML = docLinkHtml;\n",
              "        element.appendChild(docLink);\n",
              "      }\n",
              "    </script>\n",
              "  </div>\n",
              "\n",
              "\n",
              "<div id=\"df-237bd81b-8c0a-4eb9-b3f4-9a5fda638a32\">\n",
              "  <button class=\"colab-df-quickchart\" onclick=\"quickchart('df-237bd81b-8c0a-4eb9-b3f4-9a5fda638a32')\"\n",
              "            title=\"Suggest charts\"\n",
              "            style=\"display:none;\">\n",
              "\n",
              "<svg xmlns=\"http://www.w3.org/2000/svg\" height=\"24px\"viewBox=\"0 0 24 24\"\n",
              "     width=\"24px\">\n",
              "    <g>\n",
              "        <path d=\"M19 3H5c-1.1 0-2 .9-2 2v14c0 1.1.9 2 2 2h14c1.1 0 2-.9 2-2V5c0-1.1-.9-2-2-2zM9 17H7v-7h2v7zm4 0h-2V7h2v10zm4 0h-2v-4h2v4z\"/>\n",
              "    </g>\n",
              "</svg>\n",
              "  </button>\n",
              "\n",
              "<style>\n",
              "  .colab-df-quickchart {\n",
              "      --bg-color: #E8F0FE;\n",
              "      --fill-color: #1967D2;\n",
              "      --hover-bg-color: #E2EBFA;\n",
              "      --hover-fill-color: #174EA6;\n",
              "      --disabled-fill-color: #AAA;\n",
              "      --disabled-bg-color: #DDD;\n",
              "  }\n",
              "\n",
              "  [theme=dark] .colab-df-quickchart {\n",
              "      --bg-color: #3B4455;\n",
              "      --fill-color: #D2E3FC;\n",
              "      --hover-bg-color: #434B5C;\n",
              "      --hover-fill-color: #FFFFFF;\n",
              "      --disabled-bg-color: #3B4455;\n",
              "      --disabled-fill-color: #666;\n",
              "  }\n",
              "\n",
              "  .colab-df-quickchart {\n",
              "    background-color: var(--bg-color);\n",
              "    border: none;\n",
              "    border-radius: 50%;\n",
              "    cursor: pointer;\n",
              "    display: none;\n",
              "    fill: var(--fill-color);\n",
              "    height: 32px;\n",
              "    padding: 0;\n",
              "    width: 32px;\n",
              "  }\n",
              "\n",
              "  .colab-df-quickchart:hover {\n",
              "    background-color: var(--hover-bg-color);\n",
              "    box-shadow: 0 1px 2px rgba(60, 64, 67, 0.3), 0 1px 3px 1px rgba(60, 64, 67, 0.15);\n",
              "    fill: var(--button-hover-fill-color);\n",
              "  }\n",
              "\n",
              "  .colab-df-quickchart-complete:disabled,\n",
              "  .colab-df-quickchart-complete:disabled:hover {\n",
              "    background-color: var(--disabled-bg-color);\n",
              "    fill: var(--disabled-fill-color);\n",
              "    box-shadow: none;\n",
              "  }\n",
              "\n",
              "  .colab-df-spinner {\n",
              "    border: 2px solid var(--fill-color);\n",
              "    border-color: transparent;\n",
              "    border-bottom-color: var(--fill-color);\n",
              "    animation:\n",
              "      spin 1s steps(1) infinite;\n",
              "  }\n",
              "\n",
              "  @keyframes spin {\n",
              "    0% {\n",
              "      border-color: transparent;\n",
              "      border-bottom-color: var(--fill-color);\n",
              "      border-left-color: var(--fill-color);\n",
              "    }\n",
              "    20% {\n",
              "      border-color: transparent;\n",
              "      border-left-color: var(--fill-color);\n",
              "      border-top-color: var(--fill-color);\n",
              "    }\n",
              "    30% {\n",
              "      border-color: transparent;\n",
              "      border-left-color: var(--fill-color);\n",
              "      border-top-color: var(--fill-color);\n",
              "      border-right-color: var(--fill-color);\n",
              "    }\n",
              "    40% {\n",
              "      border-color: transparent;\n",
              "      border-right-color: var(--fill-color);\n",
              "      border-top-color: var(--fill-color);\n",
              "    }\n",
              "    60% {\n",
              "      border-color: transparent;\n",
              "      border-right-color: var(--fill-color);\n",
              "    }\n",
              "    80% {\n",
              "      border-color: transparent;\n",
              "      border-right-color: var(--fill-color);\n",
              "      border-bottom-color: var(--fill-color);\n",
              "    }\n",
              "    90% {\n",
              "      border-color: transparent;\n",
              "      border-bottom-color: var(--fill-color);\n",
              "    }\n",
              "  }\n",
              "</style>\n",
              "\n",
              "  <script>\n",
              "    async function quickchart(key) {\n",
              "      const quickchartButtonEl =\n",
              "        document.querySelector('#' + key + ' button');\n",
              "      quickchartButtonEl.disabled = true;  // To prevent multiple clicks.\n",
              "      quickchartButtonEl.classList.add('colab-df-spinner');\n",
              "      try {\n",
              "        const charts = await google.colab.kernel.invokeFunction(\n",
              "            'suggestCharts', [key], {});\n",
              "      } catch (error) {\n",
              "        console.error('Error during call to suggestCharts:', error);\n",
              "      }\n",
              "      quickchartButtonEl.classList.remove('colab-df-spinner');\n",
              "      quickchartButtonEl.classList.add('colab-df-quickchart-complete');\n",
              "    }\n",
              "    (() => {\n",
              "      let quickchartButtonEl =\n",
              "        document.querySelector('#df-237bd81b-8c0a-4eb9-b3f4-9a5fda638a32 button');\n",
              "      quickchartButtonEl.style.display =\n",
              "        google.colab.kernel.accessAllowed ? 'block' : 'none';\n",
              "    })();\n",
              "  </script>\n",
              "</div>\n",
              "\n",
              "  <div id=\"id_829c5778-8723-4a25-b791-66373cecee1a\">\n",
              "    <style>\n",
              "      .colab-df-generate {\n",
              "        background-color: #E8F0FE;\n",
              "        border: none;\n",
              "        border-radius: 50%;\n",
              "        cursor: pointer;\n",
              "        display: none;\n",
              "        fill: #1967D2;\n",
              "        height: 32px;\n",
              "        padding: 0 0 0 0;\n",
              "        width: 32px;\n",
              "      }\n",
              "\n",
              "      .colab-df-generate:hover {\n",
              "        background-color: #E2EBFA;\n",
              "        box-shadow: 0px 1px 2px rgba(60, 64, 67, 0.3), 0px 1px 3px 1px rgba(60, 64, 67, 0.15);\n",
              "        fill: #174EA6;\n",
              "      }\n",
              "\n",
              "      [theme=dark] .colab-df-generate {\n",
              "        background-color: #3B4455;\n",
              "        fill: #D2E3FC;\n",
              "      }\n",
              "\n",
              "      [theme=dark] .colab-df-generate:hover {\n",
              "        background-color: #434B5C;\n",
              "        box-shadow: 0px 1px 3px 1px rgba(0, 0, 0, 0.15);\n",
              "        filter: drop-shadow(0px 1px 2px rgba(0, 0, 0, 0.3));\n",
              "        fill: #FFFFFF;\n",
              "      }\n",
              "    </style>\n",
              "    <button class=\"colab-df-generate\" onclick=\"generateWithVariable('X_scaled')\"\n",
              "            title=\"Generate code using this dataframe.\"\n",
              "            style=\"display:none;\">\n",
              "\n",
              "  <svg xmlns=\"http://www.w3.org/2000/svg\" height=\"24px\"viewBox=\"0 0 24 24\"\n",
              "       width=\"24px\">\n",
              "    <path d=\"M7,19H8.4L18.45,9,17,7.55,7,17.6ZM5,21V16.75L18.45,3.32a2,2,0,0,1,2.83,0l1.4,1.43a1.91,1.91,0,0,1,.58,1.4,1.91,1.91,0,0,1-.58,1.4L9.25,21ZM18.45,9,17,7.55Zm-12,3A5.31,5.31,0,0,0,4.9,8.1,5.31,5.31,0,0,0,1,6.5,5.31,5.31,0,0,0,4.9,4.9,5.31,5.31,0,0,0,6.5,1,5.31,5.31,0,0,0,8.1,4.9,5.31,5.31,0,0,0,12,6.5,5.46,5.46,0,0,0,6.5,12Z\"/>\n",
              "  </svg>\n",
              "    </button>\n",
              "    <script>\n",
              "      (() => {\n",
              "      const buttonEl =\n",
              "        document.querySelector('#id_829c5778-8723-4a25-b791-66373cecee1a button.colab-df-generate');\n",
              "      buttonEl.style.display =\n",
              "        google.colab.kernel.accessAllowed ? 'block' : 'none';\n",
              "\n",
              "      buttonEl.onclick = () => {\n",
              "        google.colab.notebook.generateWithVariable('X_scaled');\n",
              "      }\n",
              "      })();\n",
              "    </script>\n",
              "  </div>\n",
              "\n",
              "    </div>\n",
              "  </div>\n"
            ],
            "application/vnd.google.colaboratory.intrinsic+json": {
              "type": "dataframe",
              "variable_name": "X_scaled",
              "summary": "{\n  \"name\": \"X_scaled\",\n  \"rows\": 2512,\n  \"fields\": [\n    {\n      \"column\": \"CustomerAge\",\n      \"properties\": {\n        \"dtype\": \"number\",\n        \"std\": 1.0001991040338287,\n        \"min\": -1.49949295554867,\n        \"max\": 1.9858742688222286,\n        \"num_unique_values\": 63,\n        \"samples\": [\n          1.5923650660706756,\n          1.8172274676429916,\n          1.4237182648914386\n        ],\n        \"semantic_type\": \"\",\n        \"description\": \"\"\n      }\n    },\n    {\n      \"column\": \"TransactionDate_hour\",\n      \"properties\": {\n        \"dtype\": \"number\",\n        \"std\": 1.0001991040338212,\n        \"min\": -0.8567285246325786,\n        \"max\": 1.8795741503541168,\n        \"num_unique_values\": 3,\n        \"samples\": [\n          -0.8567285246325786,\n          1.8795741503541168,\n          0.5114228128607691\n        ],\n        \"semantic_type\": \"\",\n        \"description\": \"\"\n      }\n    },\n    {\n      \"column\": \"TransactionDate_hour_cos\",\n      \"properties\": {\n        \"dtype\": \"number\",\n        \"std\": 1.0001991040338152,\n        \"min\": -0.8476232879774779,\n        \"max\": 1.9102519187842029,\n        \"num_unique_values\": 3,\n        \"samples\": [\n          -0.8476232879774779,\n          1.9102519187842029,\n          0.48267066373225526\n        ],\n        \"semantic_type\": \"\",\n        \"description\": \"\"\n      }\n    },\n    {\n      \"column\": \"TransactionDate_hour_sin\",\n      \"properties\": {\n        \"dtype\": \"number\",\n        \"std\": 1.0001991040338285,\n        \"min\": -1.4433042428997285,\n        \"max\": 0.9352190798742483,\n        \"num_unique_values\": 3,\n        \"samples\": [\n          0.9352190798742483,\n          -1.4433042428997285,\n          -0.8383670446169926\n        ],\n        \"semantic_type\": \"\",\n        \"description\": \"\"\n      }\n    },\n    {\n      \"column\": \"AccountBalance\",\n      \"properties\": {\n        \"dtype\": \"number\",\n        \"std\": 1.000199104033831,\n        \"min\": -1.2853435000548166,\n        \"max\": 2.5290429011249755,\n        \"num_unique_values\": 2510,\n        \"samples\": [\n          -0.7936592948981471,\n          -0.3751719749333147,\n          0.07336534833992198\n        ],\n        \"semantic_type\": \"\",\n        \"description\": \"\"\n      }\n    },\n    {\n      \"column\": \"TransactionDate_month\",\n      \"properties\": {\n        \"dtype\": \"number\",\n        \"std\": 1.000199104033831,\n        \"min\": -1.6007664576731924,\n        \"max\": 1.5647941777254801,\n        \"num_unique_values\": 12,\n        \"samples\": [\n          -1.6007664576731924,\n          0.4136812193986902,\n          -0.7374317389280999\n        ],\n        \"semantic_type\": \"\",\n        \"description\": \"\"\n      }\n    },\n    {\n      \"column\": \"TransactionDate_month_sin\",\n      \"properties\": {\n        \"dtype\": \"number\",\n        \"std\": 1.0001991040338296,\n        \"min\": -1.3828562912553541,\n        \"max\": 1.4580496006430044,\n        \"num_unique_values\": 10,\n        \"samples\": [\n          -1.192551681378608,\n          0.0375966546938253,\n          1.4580496006430044\n        ],\n        \"semantic_type\": \"\",\n        \"description\": \"\"\n      }\n    },\n    {\n      \"column\": \"TransactionDate_month_cos\",\n      \"properties\": {\n        \"dtype\": \"number\",\n        \"std\": 1.0001991040338327,\n        \"min\": -1.4341616364584422,\n        \"max\": 1.3847668051747486,\n        \"num_unique_values\": 11,\n        \"samples\": [\n          -0.024697415641846757,\n          -0.7294295260501441,\n          1.1959344053105645\n        ],\n        \"semantic_type\": \"\",\n        \"description\": \"\"\n      }\n    },\n    {\n      \"column\": \"TransactionAmount\",\n      \"properties\": {\n        \"dtype\": \"number\",\n        \"std\": 1.0001991040338287,\n        \"min\": -1.0186566361508262,\n        \"max\": 5.555266112570064,\n        \"num_unique_values\": 2455,\n        \"samples\": [\n          -0.5921918766538481,\n          1.7950240971370768,\n          -0.9540770995464075\n        ],\n        \"semantic_type\": \"\",\n        \"description\": \"\"\n      }\n    },\n    {\n      \"column\": \"TransactionDuration\",\n      \"properties\": {\n        \"dtype\": \"number\",\n        \"std\": 1.0001991040338285,\n        \"min\": -1.5674564567156437,\n        \"max\": 2.5783720825119185,\n        \"num_unique_values\": 288,\n        \"samples\": [\n          0.2624264847365218,\n          -1.1814655237530776,\n          -0.695402867429846\n        ],\n        \"semantic_type\": \"\",\n        \"description\": \"\"\n      }\n    },\n    {\n      \"column\": \"CustomerOccupation_Engineer\",\n      \"properties\": {\n        \"dtype\": \"number\",\n        \"std\": 1.0001991040338238,\n        \"min\": -0.5755115693951635,\n        \"max\": 1.7375845303178776,\n        \"num_unique_values\": 2,\n        \"samples\": [\n          1.7375845303178776,\n          -0.5755115693951635\n        ],\n        \"semantic_type\": \"\",\n        \"description\": \"\"\n      }\n    },\n    {\n      \"column\": \"CustomerOccupation_Retired\",\n      \"properties\": {\n        \"dtype\": \"number\",\n        \"std\": 1.000199104033844,\n        \"min\": -0.5595719370593745,\n        \"max\": 1.7870803265351975,\n        \"num_unique_values\": 2,\n        \"samples\": [\n          1.7870803265351975,\n          -0.5595719370593745\n        ],\n        \"semantic_type\": \"\",\n        \"description\": \"\"\n      }\n    },\n    {\n      \"column\": \"CustomerOccupation_Student\",\n      \"properties\": {\n        \"dtype\": \"number\",\n        \"std\": 1.0001991040338263,\n        \"min\": -0.5951284714867237,\n        \"max\": 1.6803094590682988,\n        \"num_unique_values\": 2,\n        \"samples\": [\n          1.6803094590682988,\n          -0.5951284714867237\n        ],\n        \"semantic_type\": \"\",\n        \"description\": \"\"\n      }\n    }\n  ]\n}"
            }
          },
          "metadata": {},
          "execution_count": 10
        }
      ]
    },
    {
      "cell_type": "markdown",
      "source": [
        "# **3. Data Splitting**"
      ],
      "metadata": {
        "id": "KkPem5eWL2UP"
      }
    },
    {
      "cell_type": "markdown",
      "source": [
        "Tahap Data Splitting bertujuan untuk memisahkan dataset menjadi dua bagian: data latih (training set) dan data uji (test set)."
      ],
      "metadata": {
        "id": "YYj1rl_JNI9Y"
      }
    },
    {
      "cell_type": "code",
      "source": [
        "# split data into training and testing set\n",
        "from sklearn.model_selection import train_test_split\n",
        "X_train, X_test, y_train, y_test = train_test_split(X_scaled, y, stratify=y, test_size=0.3, random_state=42)\n",
        "\n",
        "print(f'Training set dimension: {X_train.shape}')\n",
        "print(f'Testing set dimension: {X_test.shape}')"
      ],
      "metadata": {
        "id": "OubAW-7ONKVj",
        "colab": {
          "base_uri": "https://localhost:8080/"
        },
        "outputId": "744635c0-730a-4290-8027-095b84454acd"
      },
      "execution_count": null,
      "outputs": [
        {
          "output_type": "stream",
          "name": "stdout",
          "text": [
            "Training set dimension: (1758, 13)\n",
            "Testing set dimension: (754, 13)\n"
          ]
        }
      ]
    },
    {
      "cell_type": "code",
      "source": [
        "# resampling\n",
        "from imblearn.over_sampling import SMOTE\n",
        "smote = SMOTE(random_state=42)\n",
        "X_resampled, y_resampled = smote.fit_resample(X_train, y_train)"
      ],
      "metadata": {
        "id": "xF3doCSuT2Iv"
      },
      "execution_count": null,
      "outputs": []
    },
    {
      "cell_type": "code",
      "source": [
        "print(pd.Series(y_resampled).value_counts(normalize=True))"
      ],
      "metadata": {
        "colab": {
          "base_uri": "https://localhost:8080/"
        },
        "id": "tQgfpRdOV4Zr",
        "outputId": "58bf0ac6-db52-4736-e6b4-244fcd6b1caa"
      },
      "execution_count": null,
      "outputs": [
        {
          "output_type": "stream",
          "name": "stdout",
          "text": [
            "Cluster\n",
            "1    0.142857\n",
            "3    0.142857\n",
            "6    0.142857\n",
            "4    0.142857\n",
            "5    0.142857\n",
            "7    0.142857\n",
            "2    0.142857\n",
            "Name: proportion, dtype: float64\n"
          ]
        }
      ]
    },
    {
      "cell_type": "markdown",
      "source": [
        "> Metode *resampling* yang dilakukan adalah *oversampling* dengan SMOTE. Setelah diperiksa kembali, proposi setiap kelas sudah seimbang."
      ],
      "metadata": {
        "id": "AE-QpQYZdRtZ"
      }
    },
    {
      "cell_type": "markdown",
      "source": [
        "# **4. Membangun Model Klasifikasi**\n"
      ],
      "metadata": {
        "id": "IVPbB03CMhTT"
      }
    },
    {
      "cell_type": "markdown",
      "source": [
        "## **a. Membangun Model Klasifikasi**"
      ],
      "metadata": {
        "id": "Ned1pL9zMmBK"
      }
    },
    {
      "cell_type": "markdown",
      "source": [
        "Setelah memilih algoritma klasifikasi yang sesuai, langkah selanjutnya adalah melatih model menggunakan data latih.\n",
        "\n",
        "Berikut adalah rekomendasi tahapannya.\n",
        "1. Pilih algoritma klasifikasi yang sesuai, seperti Logistic Regression, Decision Tree, Random Forest, atau K-Nearest Neighbors (KNN).\n",
        "2. Latih model menggunakan data latih."
      ],
      "metadata": {
        "id": "WAWzPOE4Nkti"
      }
    },
    {
      "cell_type": "code",
      "source": [
        "# model selection: KNN, Decision Tree, Random Forest, SVM\n",
        "\n",
        "from sklearn.neighbors import KNeighborsClassifier\n",
        "from sklearn.tree import DecisionTreeClassifier\n",
        "from sklearn.ensemble import RandomForestClassifier\n",
        "from sklearn.svm import SVC\n",
        "from sklearn.linear_model import LogisticRegression\n",
        "\n",
        "# model training\n",
        "knn = KNeighborsClassifier().fit(X_resampled, y_resampled)\n",
        "dt = DecisionTreeClassifier(random_state=42).fit(X_resampled, y_resampled)\n",
        "rf = RandomForestClassifier(n_estimators=100, random_state=42).fit(X_resampled, y_resampled)\n",
        "svm = SVC().fit(X_resampled, y_resampled)\n",
        "lr = LogisticRegression().fit(X_resampled, y_resampled)\n",
        "\n",
        "# print notice\n",
        "print('Model training is complete.')"
      ],
      "metadata": {
        "id": "4JYxBe87NLDk",
        "colab": {
          "base_uri": "https://localhost:8080/"
        },
        "outputId": "72739e5b-0832-4b4e-96b2-82424d788ea7"
      },
      "execution_count": null,
      "outputs": [
        {
          "output_type": "stream",
          "name": "stdout",
          "text": [
            "Model training is complete.\n"
          ]
        }
      ]
    },
    {
      "cell_type": "markdown",
      "source": [
        "> Proses klasifikasi dilakukan dengan menggunakan beberapa pilihan algoritma, seperti **K-Nearest Neighbour**, **Support Vector Machine**, **Logistic Regression**, **Decision Tree Classifier**, serta **Random Forest Classifier**. Hasil evaluasi setiap model kemudian akan dibandingkan pada sebuah tabel untuk mempermudah menentukan model terbaik dalam melakukan klasifikasi."
      ],
      "metadata": {
        "id": "seYoHNY3XU1y"
      }
    },
    {
      "cell_type": "code",
      "source": [
        "# function to visualize the learning curve of every model\n",
        "from sklearn.model_selection import learning_curve\n",
        "\n",
        "def learning_curve_plot(model, X_train, y_train):\n",
        "  # calculate the learning curve\n",
        "  train_sizes, train_scores, test_scores = learning_curve(\n",
        "      model, X_train, y_train, cv=5, scoring='accuracy', n_jobs=-1)\n",
        "\n",
        "  # calculate the mean and std\n",
        "  train_mean = np.mean(train_scores, axis=1)\n",
        "  test_mean = np.mean(test_scores, axis=1)\n",
        "\n",
        "  # plot the learning curve\n",
        "  plt.plot(train_sizes, train_mean, 'o-', color='blue', label='Training Accuracy')\n",
        "  plt.plot(train_sizes, test_mean, 'o-', color='orange', label='Testing Accuracy')\n",
        "  plt.title(f'Learning Curve of {type(model).__name__}')\n",
        "  plt.xlabel('Training Set Size')\n",
        "  plt.ylabel('Accuracy')\n",
        "  plt.legend()\n",
        "  plt.show()"
      ],
      "metadata": {
        "id": "JVGuYL0jeSrc"
      },
      "execution_count": null,
      "outputs": []
    },
    {
      "cell_type": "code",
      "source": [
        "# function to evaluate training and testing data based on accuracy\n",
        "def train_test_acc(model, X_train, X_test, y_train, y_test):\n",
        "  train_acc = model.score(X_train, y_train)\n",
        "  test_acc = model.score(X_test, y_test)\n",
        "\n",
        "  print(f'Training accuracy: {train_acc:.3f}')\n",
        "  print(f'Testing accuracy: {test_acc:.3f}')"
      ],
      "metadata": {
        "id": "94qvOb38iz8A"
      },
      "execution_count": null,
      "outputs": []
    },
    {
      "cell_type": "markdown",
      "source": [
        "> Kedua fungsi di atas, `learning_curve_plot()` dan `train_test_acc()` adalah fungsi yang memberikan informasi serta menampilkan visualisasi performa model berdasarkan metrik akurasi terhadap jumlah dataset yang digunakan. Informasi ini berguna untuk mengidentifikasi terjadinya *overfitting* atau *underfitting* sehingga langkah perbaikan dapat dilakukan jika diperlukan."
      ],
      "metadata": {
        "id": "lbKsx0SH_lEY"
      }
    },
    {
      "cell_type": "markdown",
      "source": [
        "## **b. Evaluasi Model Klasifikasi**"
      ],
      "metadata": {
        "id": "ergzChZFEL-O"
      }
    },
    {
      "cell_type": "markdown",
      "source": [
        "Berikut adalah **rekomendasi** tahapannya.\n",
        "1. Lakukan prediksi menggunakan data uji.\n",
        "2. Hitung metrik evaluasi seperti Accuracy dan F1-Score (Opsional: Precision dan Recall).\n",
        "3. Buat confusion matrix untuk melihat detail prediksi benar dan salah."
      ],
      "metadata": {
        "id": "zOm68u-7NpLT"
      }
    },
    {
      "cell_type": "code",
      "source": [
        "# function to display model evaluation based (metrics and confusion matrix)\n",
        "from sklearn.metrics import confusion_matrix, classification_report, accuracy_score, precision_score, recall_score, f1_score\n",
        "\n",
        "def evaluate_model(model, X_test=X_test, y_test=y_test):\n",
        "  y_pred = model.predict(X_test)\n",
        "  cm = confusion_matrix(y_test, y_pred)\n",
        "\n",
        "  # metric scores\n",
        "  accuracy = round(accuracy_score(y_test, y_pred), 3)\n",
        "\n",
        "  # per class\n",
        "  class_precision = np.round(precision_score(y_test, y_pred, average=None), 3)\n",
        "  class_recall = np.round(recall_score(y_test, y_pred, average=None), 3)\n",
        "  class_f1 = np.round(f1_score(y_test, y_pred, average=None), 3)\n",
        "\n",
        "  # macro average\n",
        "  precision_macro = round(precision_score(y_test, y_pred, average='macro'), 3)\n",
        "  recall_macro = round(recall_score(y_test, y_pred, average='macro'), 3)\n",
        "  f1_macro = round(f1_score(y_test, y_pred, average='macro'), 3)\n",
        "\n",
        "  print(f'==== Model {type(model).__name__} ====\\n')\n",
        "  print('Confusion Matrix')\n",
        "  print(cm)\n",
        "  print()\n",
        "  print('Metrics Scores')\n",
        "  print(f'Accuracy: {accuracy}')\n",
        "  print(f'Precision (Macro Avg.): {precision_macro}')\n",
        "  print(f'Recall (Macro Avg.): {recall_macro}')\n",
        "  print(f'F1-Score (Macro Avg.): {f1_macro}')\n",
        "  print()\n",
        "  print('Classification Report')\n",
        "  print(classification_report(y_pred, y_test))\n",
        "\n",
        "  summary = {\n",
        "      'Confusion Matrix': cm,\n",
        "      'Accuracy': accuracy,\n",
        "      'Precision (Macro Avg.)': precision_macro,\n",
        "      'Recall (Macro Avg.)': recall_macro,\n",
        "      'F1-Score (Macro Avg.)': f1_macro\n",
        "  }\n",
        "\n",
        "  return summary"
      ],
      "metadata": {
        "id": "tMq4QAssNLip"
      },
      "execution_count": null,
      "outputs": []
    },
    {
      "cell_type": "markdown",
      "source": [
        "> Fungsi `evaluate_model()` akan menampilkan beberapa hasil evaluasi, berupa *confusion matrix*, nilai metrik (*accuracy*, *precision*, *recall*, dan *f1-score*), serta *classification report*. Perhitungan setiap metrik menggunakan nilai *macro average* karena proporsi setiap kelas telah disamakan melalui proses *resampling* agar tidak ada kelas yang mendominasi."
      ],
      "metadata": {
        "id": "_v0kn82RmZc5"
      }
    },
    {
      "cell_type": "code",
      "source": [
        "# function to visualize the confusion matrix using heatmap\n",
        "def cm_heatmap(model, cm, labels):\n",
        "  plt.figure(figsize=(5,4))\n",
        "  sns.heatmap(cm, annot=True, cmap='icefire', fmt='d', cbar=False, xticklabels=labels, yticklabels=labels)\n",
        "  plt.title(f'{type(model).__name__} Confusion Matrix')\n",
        "  plt.xlabel('Predicted')\n",
        "  plt.ylabel('Actual')\n",
        "  plt.show()"
      ],
      "metadata": {
        "id": "35Ar8kkQNXA6"
      },
      "execution_count": null,
      "outputs": []
    },
    {
      "cell_type": "markdown",
      "source": [
        "#### **1. KNN**"
      ],
      "metadata": {
        "id": "geAoCPxDN-Ls"
      }
    },
    {
      "cell_type": "code",
      "source": [
        "# visualize the learning plot of knn model\n",
        "learning_curve_plot(knn, X_resampled, y_resampled)"
      ],
      "metadata": {
        "colab": {
          "base_uri": "https://localhost:8080/",
          "height": 472
        },
        "id": "YTl-G9lug4ms",
        "outputId": "4f317605-80fa-47c0-d308-2e61ab3f2ae1"
      },
      "execution_count": null,
      "outputs": [
        {
          "output_type": "display_data",
          "data": {
            "text/plain": [
              "<Figure size 640x480 with 1 Axes>"
            ],
            "image/png": "[encoded data removed]"
          },
          "metadata": {}
        }
      ]
    },
    {
      "cell_type": "code",
      "source": [
        "# print the training and testing accuracy score\n",
        "train_test_acc(knn, X_resampled, X_test, y_resampled, y_test)"
      ],
      "metadata": {
        "colab": {
          "base_uri": "https://localhost:8080/"
        },
        "id": "oCwo7AKDlVXg",
        "outputId": "37299c13-54fe-4d5b-b870-6b4761a1c2f4"
      },
      "execution_count": null,
      "outputs": [
        {
          "output_type": "stream",
          "name": "stdout",
          "text": [
            "Training accuracy: 0.997\n",
            "Testing accuracy: 0.967\n"
          ]
        }
      ]
    },
    {
      "cell_type": "markdown",
      "source": [
        "> Berdasarkan visualisasi *learning curve*, model KNN menunjukkan kenaikan nilai akurasi pada data *training* maupun *testing* seiring bertambahnya jumlah data latih. Perbedaan akurasi antara keduanya juga tidak terlalu besar. Hal ini mengindikasikan bahwa model yang dapat melakukan generalisasi dengan baik, terutama ketika ukuran data latih yang digunakan cukup besar."
      ],
      "metadata": {
        "id": "DRO6FwW-mAuX"
      }
    },
    {
      "cell_type": "code",
      "source": [
        "# model evaluation\n",
        "knn_result = evaluate_model(knn)"
      ],
      "metadata": {
        "colab": {
          "base_uri": "https://localhost:8080/"
        },
        "id": "8_hzvGv9N4GT",
        "outputId": "55fe4f62-654b-4d22-9a3c-b3965078b15f"
      },
      "execution_count": null,
      "outputs": [
        {
          "output_type": "stream",
          "name": "stdout",
          "text": [
            "==== Model KNeighborsClassifier ====\n",
            "\n",
            "Confusion Matrix\n",
            "[[291   0   0   0   0   0   0]\n",
            " [  0  81   0   0   0   9   0]\n",
            " [  0   0  65   0   0   0   0]\n",
            " [  0   0   0  82   0   0   0]\n",
            " [  3   0   0   0 101   0   0]\n",
            " [  0  11   0   0   0  80   0]\n",
            " [  0   0   1   1   0   0  29]]\n",
            "\n",
            "Metrics Scores\n",
            "Accuracy: 0.967\n",
            "Precision (Macro Avg.): 0.963\n",
            "Recall (Macro Avg.): 0.955\n",
            "F1-Score (Macro Avg.): 0.959\n",
            "\n",
            "Classification Report\n",
            "              precision    recall  f1-score   support\n",
            "\n",
            "           1       1.00      0.99      0.99       294\n",
            "           2       0.90      0.88      0.89        92\n",
            "           3       1.00      0.98      0.99        66\n",
            "           4       1.00      0.99      0.99        83\n",
            "           5       0.97      1.00      0.99       101\n",
            "           6       0.88      0.90      0.89        89\n",
            "           7       0.94      1.00      0.97        29\n",
            "\n",
            "    accuracy                           0.97       754\n",
            "   macro avg       0.96      0.96      0.96       754\n",
            "weighted avg       0.97      0.97      0.97       754\n",
            "\n"
          ]
        }
      ]
    },
    {
      "cell_type": "markdown",
      "source": [
        "> Berdasarkan hasil evaluasi, nilai keempat metrik cukup baik, baik ditinjau dari setiap kelas maupun secara keseluruhan menggunakan *macro average*. Hal ini menunjukkan performa model yang cukup baik dalam mengklasifikasikan setiap kelas tanpa adanya indikasi seperti *overfitting* maupun *underfitting*.\n",
        "\n"
      ],
      "metadata": {
        "id": "-d3SK70dtfdg"
      }
    },
    {
      "cell_type": "code",
      "source": [
        "# display the confusion matrix using heatmap visualization\n",
        "cm_heatmap(knn, knn_result['Confusion Matrix'], labels=np.unique(y_test))"
      ],
      "metadata": {
        "colab": {
          "base_uri": "https://localhost:8080/",
          "height": 410
        },
        "id": "AXrWmnFMQ9sI",
        "outputId": "05820739-7586-46aa-98b1-4a4e484ac5e8"
      },
      "execution_count": null,
      "outputs": [
        {
          "output_type": "display_data",
          "data": {
            "text/plain": [
              "<Figure size 500x400 with 1 Axes>"
            ],
            "image/png": "[encoded data removed]"
          },
          "metadata": {}
        }
      ]
    },
    {
      "cell_type": "markdown",
      "source": [
        "#### **2. Decision Tree**"
      ],
      "metadata": {
        "id": "s04U_iRDYMAw"
      }
    },
    {
      "cell_type": "code",
      "source": [
        "# visualize the learning plot of decision tree model\n",
        "learning_curve_plot(dt, X_resampled, y_resampled)"
      ],
      "metadata": {
        "colab": {
          "base_uri": "https://localhost:8080/",
          "height": 472
        },
        "id": "u0PlhkUnhE40",
        "outputId": "f1a2fbb8-3cfb-45d0-dea4-cee9d03f4479"
      },
      "execution_count": null,
      "outputs": [
        {
          "output_type": "display_data",
          "data": {
            "text/plain": [
              "<Figure size 640x480 with 1 Axes>"
            ],
            "image/png": "[encoded data removed]"
          },
          "metadata": {}
        }
      ]
    },
    {
      "cell_type": "code",
      "source": [
        "# print the training and testing accuracy score\n",
        "train_test_acc(dt, X_resampled, X_test, y_resampled, y_test)"
      ],
      "metadata": {
        "colab": {
          "base_uri": "https://localhost:8080/"
        },
        "id": "s9fvB7ANlX7P",
        "outputId": "7113d49d-0dab-4f83-d2a9-df16fa7340e9"
      },
      "execution_count": null,
      "outputs": [
        {
          "output_type": "stream",
          "name": "stdout",
          "text": [
            "Training accuracy: 1.000\n",
            "Testing accuracy: 0.984\n"
          ]
        }
      ]
    },
    {
      "cell_type": "markdown",
      "source": [
        "> Pada visualisasi *learning curve*, terlihat bahwa akurasi data latih sangat baik, bahkan bernilai sempurna di setiap ukuran *training set*. Hal ini merupakan indikasi kuat bahwa model mengalami *overfitting*. Walaupun begitu, hal ini cukup wajar mengingat model decision tree cukup rentan terhadap terjadinya *overfitting*. Namun, nilai akurasi data *testing* menunjukkan adanya kenaikan seiring dengan bertambahnya jumlah data latih. Perbedaan nilai akurasi antara kedua data ini juga tidak terlalu besar sehingga pada model ini, sangat penting data latih yang digunakan berukuran besar untuk mencegah terjadinya *overfitting*.\n"
      ],
      "metadata": {
        "id": "rcuAUnVYiA4a"
      }
    },
    {
      "cell_type": "code",
      "source": [
        "# model evaluation\n",
        "dt_result = evaluate_model(dt)"
      ],
      "metadata": {
        "colab": {
          "base_uri": "https://localhost:8080/"
        },
        "id": "lwMYO3jyYLht",
        "outputId": "8b11c9f6-64cc-4263-e00e-2a8dfc823033"
      },
      "execution_count": null,
      "outputs": [
        {
          "output_type": "stream",
          "name": "stdout",
          "text": [
            "==== Model DecisionTreeClassifier ====\n",
            "\n",
            "Confusion Matrix\n",
            "[[291   0   0   0   0   0   0]\n",
            " [  0  85   0   0   0   5   0]\n",
            " [  0   0  65   0   0   0   0]\n",
            " [  0   0   0  81   0   0   1]\n",
            " [  2   0   0   0 102   0   0]\n",
            " [  0   3   0   0   0  88   0]\n",
            " [  0   0   0   1   0   0  30]]\n",
            "\n",
            "Metrics Scores\n",
            "Accuracy: 0.984\n",
            "Precision (Macro Avg.): 0.98\n",
            "Recall (Macro Avg.): 0.978\n",
            "F1-Score (Macro Avg.): 0.979\n",
            "\n",
            "Classification Report\n",
            "              precision    recall  f1-score   support\n",
            "\n",
            "           1       1.00      0.99      1.00       293\n",
            "           2       0.94      0.97      0.96        88\n",
            "           3       1.00      1.00      1.00        65\n",
            "           4       0.99      0.99      0.99        82\n",
            "           5       0.98      1.00      0.99       102\n",
            "           6       0.97      0.95      0.96        93\n",
            "           7       0.97      0.97      0.97        31\n",
            "\n",
            "    accuracy                           0.98       754\n",
            "   macro avg       0.98      0.98      0.98       754\n",
            "weighted avg       0.98      0.98      0.98       754\n",
            "\n"
          ]
        }
      ]
    },
    {
      "cell_type": "markdown",
      "source": [
        "> Berdasarkan hasil evaluasi, nilai keempat metrik sudah sangat baik,  baik ditinjau dari setiap kelas maupun secara keseluruhan menggunakan *macro average*. Hal ini mengindikasikan performa model yang sangat baik dalam mengklasifikasikan setiap kelas, bahkan lebih unggul jika dibandingkan dengan model KNN. Namun, perlu diperhatikan juga adanya indikasi *overfitting* terhadap model yang mungkin memengaruhi performa model itu sendiri saat melakukan generalisasi terhadap data baru.\n"
      ],
      "metadata": {
        "id": "HzSCjjt4vOU7"
      }
    },
    {
      "cell_type": "code",
      "source": [
        "# display the confusion matrix using heatmap visualization\n",
        "cm_heatmap(dt, dt_result['Confusion Matrix'], labels=np.unique(y_test))"
      ],
      "metadata": {
        "colab": {
          "base_uri": "https://localhost:8080/",
          "height": 410
        },
        "id": "rxwQZW8FYSyo",
        "outputId": "7cc13376-e74d-468f-dd6b-7b56ab3acfe0"
      },
      "execution_count": null,
      "outputs": [
        {
          "output_type": "display_data",
          "data": {
            "text/plain": [
              "<Figure size 500x400 with 1 Axes>"
            ],
            "image/png": "[encoded data removed]"
          },
          "metadata": {}
        }
      ]
    },
    {
      "cell_type": "markdown",
      "source": [
        "#### **3. Random Forest**"
      ],
      "metadata": {
        "id": "qceOY7QwYetq"
      }
    },
    {
      "cell_type": "code",
      "source": [
        "# visualize the learning plot of random forest model\n",
        "learning_curve_plot(rf, X_resampled, y_resampled)"
      ],
      "metadata": {
        "colab": {
          "base_uri": "https://localhost:8080/",
          "height": 472
        },
        "id": "fvskTcwohI5n",
        "outputId": "2b19f433-af3a-4413-b80b-87cec4201ad6"
      },
      "execution_count": null,
      "outputs": [
        {
          "output_type": "display_data",
          "data": {
            "text/plain": [
              "<Figure size 640x480 with 1 Axes>"
            ],
            "image/png": "[encoded data removed]"
          },
          "metadata": {}
        }
      ]
    },
    {
      "cell_type": "code",
      "source": [
        "# print the training and testing accuracy score\n",
        "train_test_acc(rf, X_resampled, X_test, y_resampled, y_test)"
      ],
      "metadata": {
        "colab": {
          "base_uri": "https://localhost:8080/"
        },
        "id": "Yf19_aCyldwX",
        "outputId": "f584db72-7066-4a58-c88e-8e73027835ea"
      },
      "execution_count": null,
      "outputs": [
        {
          "output_type": "stream",
          "name": "stdout",
          "text": [
            "Training accuracy: 1.000\n",
            "Testing accuracy: 0.981\n"
          ]
        }
      ]
    },
    {
      "cell_type": "markdown",
      "source": [
        "> Visualisasi *learning curve* di atas menunjukkan pola kenaikan akurasi terhadap data *training* dan *testing* yang cukup mirip dengan model decision tree sebelumnya. Namun, model random forest menunjukkan akurasi yang lebih baik, terutama saat ukuran *training set* bertambah. Tidak hanya itu, model random forest juga cenderung lebih baik dalam mengatasi permasalahan *overfitting* dibandingkan decision tree karena memanfaatkan rata-rata dari hasil penggabungan beberapa *tree*. Hal inilah yang menjadi salah satu keunggulan model ini.\n"
      ],
      "metadata": {
        "id": "-9t8OYSD5NgR"
      }
    },
    {
      "cell_type": "code",
      "source": [
        "# model evaluation\n",
        "rf_result = evaluate_model(rf)"
      ],
      "metadata": {
        "colab": {
          "base_uri": "https://localhost:8080/"
        },
        "id": "cJeqzSA-Yd_g",
        "outputId": "006538df-2135-422e-dfdc-d064d819f046"
      },
      "execution_count": null,
      "outputs": [
        {
          "output_type": "stream",
          "name": "stdout",
          "text": [
            "==== Model RandomForestClassifier ====\n",
            "\n",
            "Confusion Matrix\n",
            "[[291   0   0   0   0   0   0]\n",
            " [  0  89   0   0   0   1   0]\n",
            " [  0   0  65   0   0   0   0]\n",
            " [  0   0   0  82   0   0   0]\n",
            " [  3   0   0   0 101   0   0]\n",
            " [  0   9   0   0   0  82   0]\n",
            " [  0   0   0   1   0   0  30]]\n",
            "\n",
            "Metrics Scores\n",
            "Accuracy: 0.981\n",
            "Precision (Macro Avg.): 0.982\n",
            "Recall (Macro Avg.): 0.976\n",
            "F1-Score (Macro Avg.): 0.978\n",
            "\n",
            "Classification Report\n",
            "              precision    recall  f1-score   support\n",
            "\n",
            "           1       1.00      0.99      0.99       294\n",
            "           2       0.99      0.91      0.95        98\n",
            "           3       1.00      1.00      1.00        65\n",
            "           4       1.00      0.99      0.99        83\n",
            "           5       0.97      1.00      0.99       101\n",
            "           6       0.90      0.99      0.94        83\n",
            "           7       0.97      1.00      0.98        30\n",
            "\n",
            "    accuracy                           0.98       754\n",
            "   macro avg       0.98      0.98      0.98       754\n",
            "weighted avg       0.98      0.98      0.98       754\n",
            "\n"
          ]
        }
      ]
    },
    {
      "cell_type": "markdown",
      "source": [
        "> Hasil evaluasi model random forest juga menunjukkan performa yang sangat baik diukur dari keempat metrik. Model ini dapat menggeneralisasikan data dengan baik, terutama dengan jumlah data latih yang cukup, dan cenderung tidak mengalami *overfitting*. Hal ini mengindikasikan bahwa model ini cocok digunakan untuk data ini.\n",
        "\n"
      ],
      "metadata": {
        "id": "XZRXSZb35xdi"
      }
    },
    {
      "cell_type": "code",
      "source": [
        "# display the confusion matrix using heatmap visualization\n",
        "cm_heatmap(rf, rf_result['Confusion Matrix'], labels=np.unique(y_test))"
      ],
      "metadata": {
        "colab": {
          "base_uri": "https://localhost:8080/",
          "height": 410
        },
        "id": "t38O6ev1YmBo",
        "outputId": "f9d26d5e-296c-48c7-e3a4-6d9240b8134f"
      },
      "execution_count": null,
      "outputs": [
        {
          "output_type": "display_data",
          "data": {
            "text/plain": [
              "<Figure size 500x400 with 1 Axes>"
            ],
            "image/png": "[encoded data removed]"
          },
          "metadata": {}
        }
      ]
    },
    {
      "cell_type": "markdown",
      "source": [
        "#### **4. SVM**"
      ],
      "metadata": {
        "id": "wqxuXRpGYtMT"
      }
    },
    {
      "cell_type": "code",
      "source": [
        "# visualize the learning plot of svm model\n",
        "learning_curve_plot(svm, X_resampled, y_resampled)"
      ],
      "metadata": {
        "colab": {
          "base_uri": "https://localhost:8080/",
          "height": 472
        },
        "id": "cFwb_Xgwhhy5",
        "outputId": "cc3d149c-3055-40d2-c9ea-408682fdff14"
      },
      "execution_count": null,
      "outputs": [
        {
          "output_type": "display_data",
          "data": {
            "text/plain": [
              "<Figure size 640x480 with 1 Axes>"
            ],
            "image/png": "[encoded data removed]"
          },
          "metadata": {}
        }
      ]
    },
    {
      "cell_type": "code",
      "source": [
        "# print the training and testing accuracy score\n",
        "train_test_acc(svm, X_resampled, X_test, y_resampled, y_test)"
      ],
      "metadata": {
        "colab": {
          "base_uri": "https://localhost:8080/"
        },
        "id": "-LizjjxHlgjt",
        "outputId": "78dcf682-0a22-4466-8207-84e8ba3d984c"
      },
      "execution_count": null,
      "outputs": [
        {
          "output_type": "stream",
          "name": "stdout",
          "text": [
            "Training accuracy: 0.998\n",
            "Testing accuracy: 0.985\n"
          ]
        }
      ]
    },
    {
      "cell_type": "markdown",
      "source": [
        "> *Learning curve* di atas menunjukkan kenaikan akurasi yang cukup stabil pada data *training* dan sedikit fluktuasi pada data *testing*. Meskipun demikian, nilai akurasi data *testing* tetap menunjukkan tren peningkatan seiring bertambahnya ukuran *training set*. Perbedaan nilai akurasi keduanya juga tidak terlalu besar. Hal ini mengindikasikan bahwa model tergolong *good fit* pada data yang cukup dan tidak menunjukkan tanda-tanda *overfitting* maupun *underfitting* yang signifikan.\n"
      ],
      "metadata": {
        "id": "W8V4K0310WTi"
      }
    },
    {
      "cell_type": "code",
      "source": [
        "# model evaluation\n",
        "svm_result = evaluate_model(svm)"
      ],
      "metadata": {
        "colab": {
          "base_uri": "https://localhost:8080/"
        },
        "id": "fU0KmRtnYs5O",
        "outputId": "ceeb4091-8c7b-44d3-8b09-d6f8680960b1"
      },
      "execution_count": null,
      "outputs": [
        {
          "output_type": "stream",
          "name": "stdout",
          "text": [
            "==== Model SVC ====\n",
            "\n",
            "Confusion Matrix\n",
            "[[291   0   0   0   0   0   0]\n",
            " [  0  87   0   0   0   3   0]\n",
            " [  0   0  65   0   0   0   0]\n",
            " [  0   0   0  82   0   0   0]\n",
            " [  3   0   0   0 101   0   0]\n",
            " [  0   4   0   0   0  87   0]\n",
            " [  0   0   0   1   0   0  30]]\n",
            "\n",
            "Metrics Scores\n",
            "Accuracy: 0.985\n",
            "Precision (Macro Avg.): 0.986\n",
            "Recall (Macro Avg.): 0.98\n",
            "F1-Score (Macro Avg.): 0.983\n",
            "\n",
            "Classification Report\n",
            "              precision    recall  f1-score   support\n",
            "\n",
            "           1       1.00      0.99      0.99       294\n",
            "           2       0.97      0.96      0.96        91\n",
            "           3       1.00      1.00      1.00        65\n",
            "           4       1.00      0.99      0.99        83\n",
            "           5       0.97      1.00      0.99       101\n",
            "           6       0.96      0.97      0.96        90\n",
            "           7       0.97      1.00      0.98        30\n",
            "\n",
            "    accuracy                           0.99       754\n",
            "   macro avg       0.98      0.99      0.98       754\n",
            "weighted avg       0.99      0.99      0.99       754\n",
            "\n"
          ]
        }
      ]
    },
    {
      "cell_type": "markdown",
      "source": [
        "> Hasil evaluasi menunjukkan performa yang sangat baik pada keempat metrik, baik secara keseluruhan (*macro average*) maupun per kelas. Bahkan, performa model SVM terlihat lebih unggul dibandingkan ketiga model sebelumnya.\n",
        "\n"
      ],
      "metadata": {
        "id": "4tVDUMoJ0wpv"
      }
    },
    {
      "cell_type": "code",
      "source": [
        "# display the confusion matrix using heatmap visualization\n",
        "cm_heatmap(svm, svm_result['Confusion Matrix'], labels=np.unique(y_test))"
      ],
      "metadata": {
        "colab": {
          "base_uri": "https://localhost:8080/",
          "height": 410
        },
        "id": "AT7HqyvQZGM5",
        "outputId": "9df52ea0-4e16-4aeb-bce4-1515f9ec3260"
      },
      "execution_count": null,
      "outputs": [
        {
          "output_type": "display_data",
          "data": {
            "text/plain": [
              "<Figure size 500x400 with 1 Axes>"
            ],
            "image/png": "[encoded data removed]"
          },
          "metadata": {}
        }
      ]
    },
    {
      "cell_type": "markdown",
      "source": [
        "#### **5. Logistic Regression**"
      ],
      "metadata": {
        "id": "aDBT1Uf-l6fJ"
      }
    },
    {
      "cell_type": "code",
      "source": [
        "# visualize the learning plot of logistic regression model\n",
        "learning_curve_plot(lr, X_resampled, y_resampled)"
      ],
      "metadata": {
        "colab": {
          "base_uri": "https://localhost:8080/",
          "height": 472
        },
        "id": "Ej9_bXaamAqa",
        "outputId": "d97da835-560b-4552-93fc-31b62cb6c468"
      },
      "execution_count": null,
      "outputs": [
        {
          "output_type": "display_data",
          "data": {
            "text/plain": [
              "<Figure size 640x480 with 1 Axes>"
            ],
            "image/png": "[encoded data removed]"
          },
          "metadata": {}
        }
      ]
    },
    {
      "cell_type": "code",
      "source": [
        "# print the training and testing accuracy score\n",
        "train_test_acc(lr, X_resampled, X_test, y_resampled, y_test)"
      ],
      "metadata": {
        "colab": {
          "base_uri": "https://localhost:8080/"
        },
        "id": "FpnrI0-wlkCG",
        "outputId": "42e85aad-2bdd-41e6-e9ac-932096023419"
      },
      "execution_count": null,
      "outputs": [
        {
          "output_type": "stream",
          "name": "stdout",
          "text": [
            "Training accuracy: 0.999\n",
            "Testing accuracy: 0.993\n"
          ]
        }
      ]
    },
    {
      "cell_type": "markdown",
      "source": [
        "> Visualisasi *learning curve* di atas menunjukkan adanya sedikit fluktuasi, terutama pada data testing, dimana ada kalanya gap antara kedua data cukup besar. Walaupun begitu, seiring bertambahnya ukuran data *training set*, nilai akurasi keduanya meningkat dan perbedaannya menjadi lebih kecil. Hal ini mengindikasikan bahwa model logistic regression dapat bekerja dengan baik pada data yang memiliki jumlah *training set* yang cukup.\n",
        "\n"
      ],
      "metadata": {
        "id": "qAG_bxhbzkyc"
      }
    },
    {
      "cell_type": "code",
      "source": [
        "# model evaluation\n",
        "lr_result = evaluate_model(lr)"
      ],
      "metadata": {
        "colab": {
          "base_uri": "https://localhost:8080/"
        },
        "id": "2oY15sVmmF-i",
        "outputId": "10ce6035-687e-4d77-dac2-5248781cf244"
      },
      "execution_count": null,
      "outputs": [
        {
          "output_type": "stream",
          "name": "stdout",
          "text": [
            "==== Model LogisticRegression ====\n",
            "\n",
            "Confusion Matrix\n",
            "[[291   0   0   0   0   0   0]\n",
            " [  0  90   0   0   0   0   0]\n",
            " [  0   0  65   0   0   0   0]\n",
            " [  0   0   0  82   0   0   0]\n",
            " [  3   0   0   0 101   0   0]\n",
            " [  0   2   0   0   0  89   0]\n",
            " [  0   0   0   0   0   0  31]]\n",
            "\n",
            "Metrics Scores\n",
            "Accuracy: 0.993\n",
            "Precision (Macro Avg.): 0.995\n",
            "Recall (Macro Avg.): 0.993\n",
            "F1-Score (Macro Avg.): 0.994\n",
            "\n",
            "Classification Report\n",
            "              precision    recall  f1-score   support\n",
            "\n",
            "           1       1.00      0.99      0.99       294\n",
            "           2       1.00      0.98      0.99        92\n",
            "           3       1.00      1.00      1.00        65\n",
            "           4       1.00      1.00      1.00        82\n",
            "           5       0.97      1.00      0.99       101\n",
            "           6       0.98      1.00      0.99        89\n",
            "           7       1.00      1.00      1.00        31\n",
            "\n",
            "    accuracy                           0.99       754\n",
            "   macro avg       0.99      1.00      0.99       754\n",
            "weighted avg       0.99      0.99      0.99       754\n",
            "\n"
          ]
        }
      ]
    },
    {
      "cell_type": "markdown",
      "source": [
        "> Hasil evaluasi menunjukkan nilai yang sangat tinggi pada keempat metrik, baik secara keseluruhan maupun per kelas. Hal ini mengindikasikan performa model yang cukup baik pada data ini. Bahkan, performa model ini melampaui keempat model sebelumnya.\n"
      ],
      "metadata": {
        "id": "uhoVHV8U0Mle"
      }
    },
    {
      "cell_type": "code",
      "source": [
        "# display the confusion matrix using heatmap visualization\n",
        "cm_heatmap(lr, lr_result['Confusion Matrix'], labels=np.unique(y_test))"
      ],
      "metadata": {
        "colab": {
          "base_uri": "https://localhost:8080/",
          "height": 410
        },
        "id": "nKJN82IZmNwn",
        "outputId": "6772cc05-b849-48f9-dec6-0921e3844cd6"
      },
      "execution_count": null,
      "outputs": [
        {
          "output_type": "display_data",
          "data": {
            "text/plain": [
              "<Figure size 500x400 with 1 Axes>"
            ],
            "image/png": "[encoded data removed]"
          },
          "metadata": {}
        }
      ]
    },
    {
      "cell_type": "markdown",
      "source": [
        "## **c. Tuning Model Klasifikasi (Optional)**"
      ],
      "metadata": {
        "id": "ph9yIYDXEPuB"
      }
    },
    {
      "cell_type": "markdown",
      "source": [
        "Gunakan GridSearchCV, RandomizedSearchCV, atau metode lainnya untuk mencari kombinasi hyperparameter terbaik"
      ],
      "metadata": {
        "id": "-Bikx3LINv5e"
      }
    },
    {
      "cell_type": "markdown",
      "source": [
        "> Pada bagian ini, dilakukan *hyperparameter tuning* terhadap dua model, yaitu KNN dan Decision Tree Classifier. Model KNN dipilih untuk *tuning* karena dari kelima model, KNN memiliki hasil evaluasi terendah meskipun masih tergolong baik. Sementara itu, proses *tuning* juga dilakukan terhadap model decision tree untuk melihat apakah terdapat peningkatan performa dengan memanfaatkan parameter terbaik, serta untuk mengidentifikasi apakah permasalahan *overfitting* dapat diminimalkan.\n"
      ],
      "metadata": {
        "id": "rUfgFt3v6dq8"
      }
    },
    {
      "cell_type": "markdown",
      "source": [
        "#### **1. KNN**\n",
        "\n"
      ],
      "metadata": {
        "id": "WvgE9la93aeU"
      }
    },
    {
      "cell_type": "code",
      "source": [
        "# hyperparameter tuning knn using GridSearchCV\n",
        "from sklearn.model_selection import GridSearchCV\n",
        "\n",
        "# define param grid\n",
        "param_grid = {\n",
        "    'n_neighbors': np.arange(2, 31, 1)\n",
        "}\n",
        "\n",
        "# initialize GridSearchCV\n",
        "grid_search_knn = GridSearchCV(estimator=knn, param_grid=param_grid, cv=3, n_jobs=1, verbose=2)\n",
        "grid_search_knn.fit(X_resampled, y_resampled)\n",
        "\n",
        "# save best model\n",
        "print(f'Grid Search KNN Best Params: {grid_search_knn.best_params_}')\n",
        "best_knn_grid = grid_search_knn.best_estimator_"
      ],
      "metadata": {
        "colab": {
          "base_uri": "https://localhost:8080/"
        },
        "id": "7dL7w5kH1l0g",
        "outputId": "29278c78-f5db-458e-e811-4a00b813dde9"
      },
      "execution_count": null,
      "outputs": [
        {
          "output_type": "stream",
          "name": "stdout",
          "text": [
            "Fitting 3 folds for each of 29 candidates, totalling 87 fits\n",
            "[CV] END ......................................n_neighbors=2; total time=   0.1s\n",
            "[CV] END ......................................n_neighbors=2; total time=   0.1s\n",
            "[CV] END ......................................n_neighbors=2; total time=   0.1s\n",
            "[CV] END ......................................n_neighbors=3; total time=   0.1s\n",
            "[CV] END ......................................n_neighbors=3; total time=   0.1s\n",
            "[CV] END ......................................n_neighbors=3; total time=   0.1s\n",
            "[CV] END ......................................n_neighbors=4; total time=   0.1s\n",
            "[CV] END ......................................n_neighbors=4; total time=   0.2s\n",
            "[CV] END ......................................n_neighbors=4; total time=   0.1s\n",
            "[CV] END ......................................n_neighbors=5; total time=   0.1s\n",
            "[CV] END ......................................n_neighbors=5; total time=   0.1s\n",
            "[CV] END ......................................n_neighbors=5; total time=   0.1s\n",
            "[CV] END ......................................n_neighbors=6; total time=   0.2s\n",
            "[CV] END ......................................n_neighbors=6; total time=   0.1s\n",
            "[CV] END ......................................n_neighbors=6; total time=   0.1s\n",
            "[CV] END ......................................n_neighbors=7; total time=   0.2s\n",
            "[CV] END ......................................n_neighbors=7; total time=   0.1s\n",
            "[CV] END ......................................n_neighbors=7; total time=   0.1s\n",
            "[CV] END ......................................n_neighbors=8; total time=   0.1s\n",
            "[CV] END ......................................n_neighbors=8; total time=   0.1s\n",
            "[CV] END ......................................n_neighbors=8; total time=   0.2s\n",
            "[CV] END ......................................n_neighbors=9; total time=   0.2s\n",
            "[CV] END ......................................n_neighbors=9; total time=   0.2s\n",
            "[CV] END ......................................n_neighbors=9; total time=   0.2s\n",
            "[CV] END .....................................n_neighbors=10; total time=   0.3s\n",
            "[CV] END .....................................n_neighbors=10; total time=   0.3s\n",
            "[CV] END .....................................n_neighbors=10; total time=   0.3s\n",
            "[CV] END .....................................n_neighbors=11; total time=   0.3s\n",
            "[CV] END .....................................n_neighbors=11; total time=   0.2s\n",
            "[CV] END .....................................n_neighbors=11; total time=   0.2s\n",
            "[CV] END .....................................n_neighbors=12; total time=   0.3s\n",
            "[CV] END .....................................n_neighbors=12; total time=   0.2s\n",
            "[CV] END .....................................n_neighbors=12; total time=   0.2s\n",
            "[CV] END .....................................n_neighbors=13; total time=   0.2s\n",
            "[CV] END .....................................n_neighbors=13; total time=   0.3s\n",
            "[CV] END .....................................n_neighbors=13; total time=   0.2s\n",
            "[CV] END .....................................n_neighbors=14; total time=   0.2s\n",
            "[CV] END .....................................n_neighbors=14; total time=   0.2s\n",
            "[CV] END .....................................n_neighbors=14; total time=   0.3s\n",
            "[CV] END .....................................n_neighbors=15; total time=   0.3s\n",
            "[CV] END .....................................n_neighbors=15; total time=   0.3s\n",
            "[CV] END .....................................n_neighbors=15; total time=   0.3s\n",
            "[CV] END .....................................n_neighbors=16; total time=   0.3s\n",
            "[CV] END .....................................n_neighbors=16; total time=   0.3s\n",
            "[CV] END .....................................n_neighbors=16; total time=   0.3s\n",
            "[CV] END .....................................n_neighbors=17; total time=   0.3s\n",
            "[CV] END .....................................n_neighbors=17; total time=   0.3s\n",
            "[CV] END .....................................n_neighbors=17; total time=   0.4s\n",
            "[CV] END .....................................n_neighbors=18; total time=   0.4s\n",
            "[CV] END .....................................n_neighbors=18; total time=   0.4s\n",
            "[CV] END .....................................n_neighbors=18; total time=   0.3s\n",
            "[CV] END .....................................n_neighbors=19; total time=   0.3s\n",
            "[CV] END .....................................n_neighbors=19; total time=   0.3s\n",
            "[CV] END .....................................n_neighbors=19; total time=   0.4s\n",
            "[CV] END .....................................n_neighbors=20; total time=   0.3s\n",
            "[CV] END .....................................n_neighbors=20; total time=   0.3s\n",
            "[CV] END .....................................n_neighbors=20; total time=   0.3s\n",
            "[CV] END .....................................n_neighbors=21; total time=   0.3s\n",
            "[CV] END .....................................n_neighbors=21; total time=   0.3s\n",
            "[CV] END .....................................n_neighbors=21; total time=   0.3s\n",
            "[CV] END .....................................n_neighbors=22; total time=   0.3s\n",
            "[CV] END .....................................n_neighbors=22; total time=   0.3s\n",
            "[CV] END .....................................n_neighbors=22; total time=   0.2s\n",
            "[CV] END .....................................n_neighbors=23; total time=   0.2s\n",
            "[CV] END .....................................n_neighbors=23; total time=   0.2s\n",
            "[CV] END .....................................n_neighbors=23; total time=   0.2s\n",
            "[CV] END .....................................n_neighbors=24; total time=   0.2s\n",
            "[CV] END .....................................n_neighbors=24; total time=   0.2s\n",
            "[CV] END .....................................n_neighbors=24; total time=   0.2s\n",
            "[CV] END .....................................n_neighbors=25; total time=   0.2s\n",
            "[CV] END .....................................n_neighbors=25; total time=   0.2s\n",
            "[CV] END .....................................n_neighbors=25; total time=   0.2s\n",
            "[CV] END .....................................n_neighbors=26; total time=   0.2s\n",
            "[CV] END .....................................n_neighbors=26; total time=   0.2s\n",
            "[CV] END .....................................n_neighbors=26; total time=   0.2s\n",
            "[CV] END .....................................n_neighbors=27; total time=   0.2s\n",
            "[CV] END .....................................n_neighbors=27; total time=   0.2s\n",
            "[CV] END .....................................n_neighbors=27; total time=   0.2s\n",
            "[CV] END .....................................n_neighbors=28; total time=   0.2s\n",
            "[CV] END .....................................n_neighbors=28; total time=   0.2s\n",
            "[CV] END .....................................n_neighbors=28; total time=   0.2s\n",
            "[CV] END .....................................n_neighbors=29; total time=   0.2s\n",
            "[CV] END .....................................n_neighbors=29; total time=   0.2s\n",
            "[CV] END .....................................n_neighbors=29; total time=   0.2s\n",
            "[CV] END .....................................n_neighbors=30; total time=   0.2s\n",
            "[CV] END .....................................n_neighbors=30; total time=   0.2s\n",
            "[CV] END .....................................n_neighbors=30; total time=   0.2s\n",
            "Grid Search KNN Best Params: {'n_neighbors': 2}\n"
          ]
        },
        {
          "output_type": "stream",
          "name": "stderr",
          "text": [
            "/usr/local/lib/python3.10/dist-packages/numpy/ma/core.py:2820: RuntimeWarning: invalid value encountered in cast\n",
            "  _data = np.array(data, dtype=dtype, copy=copy,\n"
          ]
        }
      ]
    },
    {
      "cell_type": "code",
      "source": [
        "# knn model evaluation after tuning\n",
        "best_knn_result = evaluate_model(best_knn_grid)"
      ],
      "metadata": {
        "colab": {
          "base_uri": "https://localhost:8080/"
        },
        "id": "iXKSwlBs3kM-",
        "outputId": "0b818449-8873-4fa1-9a7b-7eec5f91e821"
      },
      "execution_count": null,
      "outputs": [
        {
          "output_type": "stream",
          "name": "stdout",
          "text": [
            "==== Model KNeighborsClassifier ====\n",
            "\n",
            "Confusion Matrix\n",
            "[[291   0   0   0   0   0   0]\n",
            " [  0  80   0   0   0  10   0]\n",
            " [  0   0  65   0   0   0   0]\n",
            " [  0   0   0  82   0   0   0]\n",
            " [  3   0   0   0 101   0   0]\n",
            " [  0  11   0   0   0  80   0]\n",
            " [  0   0   1   1   0   0  29]]\n",
            "\n",
            "Metrics Scores\n",
            "Accuracy: 0.966\n",
            "Precision (Macro Avg.): 0.962\n",
            "Recall (Macro Avg.): 0.954\n",
            "F1-Score (Macro Avg.): 0.957\n",
            "\n",
            "Classification Report\n",
            "              precision    recall  f1-score   support\n",
            "\n",
            "           1       1.00      0.99      0.99       294\n",
            "           2       0.89      0.88      0.88        91\n",
            "           3       1.00      0.98      0.99        66\n",
            "           4       1.00      0.99      0.99        83\n",
            "           5       0.97      1.00      0.99       101\n",
            "           6       0.88      0.89      0.88        90\n",
            "           7       0.94      1.00      0.97        29\n",
            "\n",
            "    accuracy                           0.97       754\n",
            "   macro avg       0.95      0.96      0.96       754\n",
            "weighted avg       0.97      0.97      0.97       754\n",
            "\n"
          ]
        }
      ]
    },
    {
      "cell_type": "markdown",
      "source": [
        "> Setelah dilakukan *hyperparameter tuning* menggunakan `GridSearchCV`,\n",
        "performa model yang diukur berdasarkan keempat metrik tidak menunjukkan perubahan yang signifikan dengan model sebelum *tuning*. Bahkan, hasil evaluasinya sedikit lebih rendah. Oleh karena itu, akan dicoba pendekatan lain, seperti `RandomizedSearchCV`, untuk melihat apakah akan terjadi peningkatan performa model.\n",
        "\n"
      ],
      "metadata": {
        "id": "5w0D1_J47DX3"
      }
    },
    {
      "cell_type": "code",
      "source": [
        "# hyperparameter tuning knn using RandomizedSearchCV\n",
        "from sklearn.model_selection import RandomizedSearchCV\n",
        "\n",
        "# define param dist\n",
        "param_dist = {\n",
        "    'n_neighbors': np.linspace(10, 50, 5, dtype=int)\n",
        "}\n",
        "\n",
        "# initialize RandomizedSearchCV\n",
        "random_search_knn = RandomizedSearchCV(\n",
        "    estimator=knn, param_distributions=param_dist, n_iter=20, n_jobs=1, cv=3, verbose=2, random_state=42\n",
        "    )\n",
        "random_search_knn.fit(X_resampled, y_resampled)\n",
        "\n",
        "# save best model\n",
        "print(f'Random Search KNN Best Params: {random_search_knn.best_params_}')\n",
        "best_knn_random = random_search_knn.best_estimator_"
      ],
      "metadata": {
        "colab": {
          "base_uri": "https://localhost:8080/"
        },
        "id": "dgtmIVBF5FzO",
        "outputId": "0652e2eb-a55e-471f-d187-055126b085dd"
      },
      "execution_count": null,
      "outputs": [
        {
          "output_type": "stream",
          "name": "stderr",
          "text": [
            "/usr/local/lib/python3.10/dist-packages/sklearn/model_selection/_search.py:320: UserWarning: The total space of parameters 5 is smaller than n_iter=20. Running 5 iterations. For exhaustive searches, use GridSearchCV.\n",
            "  warnings.warn(\n"
          ]
        },
        {
          "output_type": "stream",
          "name": "stdout",
          "text": [
            "Fitting 3 folds for each of 5 candidates, totalling 15 fits\n",
            "[CV] END .....................................n_neighbors=10; total time=   0.1s\n",
            "[CV] END .....................................n_neighbors=10; total time=   0.1s\n",
            "[CV] END .....................................n_neighbors=10; total time=   0.1s\n",
            "[CV] END .....................................n_neighbors=20; total time=   0.2s\n",
            "[CV] END .....................................n_neighbors=20; total time=   0.2s\n",
            "[CV] END .....................................n_neighbors=20; total time=   0.2s\n",
            "[CV] END .....................................n_neighbors=30; total time=   0.2s\n",
            "[CV] END .....................................n_neighbors=30; total time=   0.2s\n",
            "[CV] END .....................................n_neighbors=30; total time=   0.2s\n",
            "[CV] END .....................................n_neighbors=40; total time=   0.2s\n",
            "[CV] END .....................................n_neighbors=40; total time=   0.2s\n",
            "[CV] END .....................................n_neighbors=40; total time=   0.2s\n",
            "[CV] END .....................................n_neighbors=50; total time=   0.2s\n",
            "[CV] END .....................................n_neighbors=50; total time=   0.2s\n",
            "[CV] END .....................................n_neighbors=50; total time=   0.2s\n",
            "Random Search KNN Best Params: {'n_neighbors': 10}\n"
          ]
        }
      ]
    },
    {
      "cell_type": "code",
      "source": [
        "# reevaluate model performance after tuning using Random Search\n",
        "best_knn_random_result = evaluate_model(best_knn_random)"
      ],
      "metadata": {
        "colab": {
          "base_uri": "https://localhost:8080/"
        },
        "id": "MS5F4tSd6ex6",
        "outputId": "8628145d-8409-4472-badf-4dff37c35759"
      },
      "execution_count": null,
      "outputs": [
        {
          "output_type": "stream",
          "name": "stdout",
          "text": [
            "==== Model KNeighborsClassifier ====\n",
            "\n",
            "Confusion Matrix\n",
            "[[291   0   0   0   0   0   0]\n",
            " [  0  83   0   0   0   7   0]\n",
            " [  0   0  65   0   0   0   0]\n",
            " [  0   0   0  82   0   0   0]\n",
            " [  2   0   0   0 102   0   0]\n",
            " [  0  10   0   0   0  81   0]\n",
            " [  0   0   1   1   0   0  29]]\n",
            "\n",
            "Metrics Scores\n",
            "Accuracy: 0.972\n",
            "Precision (Macro Avg.): 0.968\n",
            "Recall (Macro Avg.): 0.961\n",
            "F1-Score (Macro Avg.): 0.965\n",
            "\n",
            "Classification Report\n",
            "              precision    recall  f1-score   support\n",
            "\n",
            "           1       1.00      0.99      1.00       293\n",
            "           2       0.92      0.89      0.91        93\n",
            "           3       1.00      0.98      0.99        66\n",
            "           4       1.00      0.99      0.99        83\n",
            "           5       0.98      1.00      0.99       102\n",
            "           6       0.89      0.92      0.91        88\n",
            "           7       0.94      1.00      0.97        29\n",
            "\n",
            "    accuracy                           0.97       754\n",
            "   macro avg       0.96      0.97      0.96       754\n",
            "weighted avg       0.97      0.97      0.97       754\n",
            "\n"
          ]
        }
      ]
    },
    {
      "cell_type": "markdown",
      "source": [
        "> Ternyata, hasil *tuning* menggunakan `RandomizedSearchCV` dengan nilai parameter `n_neighbors` yang ditentukan menghasilkan performa yang jauh lebih baik dibandingkan sebelumnya. Oleh karena itu, model ini akan disimpan sebagai versi final untuk kemudian dibandingkan dengan model lainnya.\n",
        "\n"
      ],
      "metadata": {
        "id": "Xn707KHD65AI"
      }
    },
    {
      "cell_type": "markdown",
      "source": [
        "#### **2. Decision Tree**"
      ],
      "metadata": {
        "id": "gLwqgzVX5Ce7"
      }
    },
    {
      "cell_type": "code",
      "source": [
        "# hyperparameter tuning decision tree using GridSearchCV\n",
        "\n",
        "# define param grid\n",
        "param_grid = {\n",
        "    'max_depth': [10, 20, 30],\n",
        "    'min_samples_split': [2, 5, 10],\n",
        "    'criterion': ['gini', 'entropy']\n",
        "}\n",
        "\n",
        "# initialize GridSearchCV\n",
        "grid_search_dt = GridSearchCV(estimator=dt, param_grid=param_grid, cv=3, n_jobs=1, verbose=2)\n",
        "grid_search_dt.fit(X_resampled, y_resampled)\n",
        "\n",
        "# save best model\n",
        "print(f'Grid Search Decision Tree Best Params: {grid_search_dt.best_params_}')\n",
        "best_dt_grid = grid_search_dt.best_estimator_"
      ],
      "metadata": {
        "id": "winbFzb8NL95",
        "colab": {
          "base_uri": "https://localhost:8080/"
        },
        "outputId": "771f3e75-5b12-41da-e40b-1e33968b7294"
      },
      "execution_count": null,
      "outputs": [
        {
          "output_type": "stream",
          "name": "stdout",
          "text": [
            "Fitting 3 folds for each of 18 candidates, totalling 54 fits\n",
            "[CV] END ..criterion=gini, max_depth=10, min_samples_split=2; total time=   0.0s\n",
            "[CV] END ..criterion=gini, max_depth=10, min_samples_split=2; total time=   0.0s\n",
            "[CV] END ..criterion=gini, max_depth=10, min_samples_split=2; total time=   0.0s\n",
            "[CV] END ..criterion=gini, max_depth=10, min_samples_split=5; total time=   0.0s\n",
            "[CV] END ..criterion=gini, max_depth=10, min_samples_split=5; total time=   0.0s\n",
            "[CV] END ..criterion=gini, max_depth=10, min_samples_split=5; total time=   0.0s\n",
            "[CV] END .criterion=gini, max_depth=10, min_samples_split=10; total time=   0.0s\n",
            "[CV] END .criterion=gini, max_depth=10, min_samples_split=10; total time=   0.0s\n",
            "[CV] END .criterion=gini, max_depth=10, min_samples_split=10; total time=   0.0s\n",
            "[CV] END ..criterion=gini, max_depth=20, min_samples_split=2; total time=   0.0s\n",
            "[CV] END ..criterion=gini, max_depth=20, min_samples_split=2; total time=   0.0s\n",
            "[CV] END ..criterion=gini, max_depth=20, min_samples_split=2; total time=   0.0s\n",
            "[CV] END ..criterion=gini, max_depth=20, min_samples_split=5; total time=   0.0s\n",
            "[CV] END ..criterion=gini, max_depth=20, min_samples_split=5; total time=   0.0s\n",
            "[CV] END ..criterion=gini, max_depth=20, min_samples_split=5; total time=   0.0s\n",
            "[CV] END .criterion=gini, max_depth=20, min_samples_split=10; total time=   0.0s\n",
            "[CV] END .criterion=gini, max_depth=20, min_samples_split=10; total time=   0.0s\n",
            "[CV] END .criterion=gini, max_depth=20, min_samples_split=10; total time=   0.0s\n",
            "[CV] END ..criterion=gini, max_depth=30, min_samples_split=2; total time=   0.0s\n",
            "[CV] END ..criterion=gini, max_depth=30, min_samples_split=2; total time=   0.0s\n",
            "[CV] END ..criterion=gini, max_depth=30, min_samples_split=2; total time=   0.0s\n",
            "[CV] END ..criterion=gini, max_depth=30, min_samples_split=5; total time=   0.0s\n",
            "[CV] END ..criterion=gini, max_depth=30, min_samples_split=5; total time=   0.0s\n",
            "[CV] END ..criterion=gini, max_depth=30, min_samples_split=5; total time=   0.0s\n",
            "[CV] END .criterion=gini, max_depth=30, min_samples_split=10; total time=   0.0s\n",
            "[CV] END .criterion=gini, max_depth=30, min_samples_split=10; total time=   0.0s\n",
            "[CV] END .criterion=gini, max_depth=30, min_samples_split=10; total time=   0.0s\n",
            "[CV] END criterion=entropy, max_depth=10, min_samples_split=2; total time=   0.0s\n",
            "[CV] END criterion=entropy, max_depth=10, min_samples_split=2; total time=   0.0s\n",
            "[CV] END criterion=entropy, max_depth=10, min_samples_split=2; total time=   0.0s\n",
            "[CV] END criterion=entropy, max_depth=10, min_samples_split=5; total time=   0.0s\n",
            "[CV] END criterion=entropy, max_depth=10, min_samples_split=5; total time=   0.0s\n",
            "[CV] END criterion=entropy, max_depth=10, min_samples_split=5; total time=   0.0s\n",
            "[CV] END criterion=entropy, max_depth=10, min_samples_split=10; total time=   0.0s\n",
            "[CV] END criterion=entropy, max_depth=10, min_samples_split=10; total time=   0.0s\n",
            "[CV] END criterion=entropy, max_depth=10, min_samples_split=10; total time=   0.0s\n",
            "[CV] END criterion=entropy, max_depth=20, min_samples_split=2; total time=   0.0s\n",
            "[CV] END criterion=entropy, max_depth=20, min_samples_split=2; total time=   0.0s\n",
            "[CV] END criterion=entropy, max_depth=20, min_samples_split=2; total time=   0.0s\n",
            "[CV] END criterion=entropy, max_depth=20, min_samples_split=5; total time=   0.0s\n",
            "[CV] END criterion=entropy, max_depth=20, min_samples_split=5; total time=   0.0s\n",
            "[CV] END criterion=entropy, max_depth=20, min_samples_split=5; total time=   0.0s\n",
            "[CV] END criterion=entropy, max_depth=20, min_samples_split=10; total time=   0.0s\n",
            "[CV] END criterion=entropy, max_depth=20, min_samples_split=10; total time=   0.0s\n",
            "[CV] END criterion=entropy, max_depth=20, min_samples_split=10; total time=   0.0s\n",
            "[CV] END criterion=entropy, max_depth=30, min_samples_split=2; total time=   0.0s\n",
            "[CV] END criterion=entropy, max_depth=30, min_samples_split=2; total time=   0.0s\n",
            "[CV] END criterion=entropy, max_depth=30, min_samples_split=2; total time=   0.0s\n",
            "[CV] END criterion=entropy, max_depth=30, min_samples_split=5; total time=   0.0s\n",
            "[CV] END criterion=entropy, max_depth=30, min_samples_split=5; total time=   0.0s\n",
            "[CV] END criterion=entropy, max_depth=30, min_samples_split=5; total time=   0.0s\n",
            "[CV] END criterion=entropy, max_depth=30, min_samples_split=10; total time=   0.0s\n",
            "[CV] END criterion=entropy, max_depth=30, min_samples_split=10; total time=   0.0s\n",
            "[CV] END criterion=entropy, max_depth=30, min_samples_split=10; total time=   0.0s\n",
            "Grid Search Decision Tree Best Params: {'criterion': 'entropy', 'max_depth': 20, 'min_samples_split': 2}\n"
          ]
        },
        {
          "output_type": "stream",
          "name": "stderr",
          "text": [
            "/usr/local/lib/python3.10/dist-packages/numpy/ma/core.py:2820: RuntimeWarning: invalid value encountered in cast\n",
            "  _data = np.array(data, dtype=dtype, copy=copy,\n"
          ]
        }
      ]
    },
    {
      "cell_type": "code",
      "source": [
        "# decision tree model evaluation after tuning\n",
        "best_dt_result = evaluate_model(best_dt_grid)"
      ],
      "metadata": {
        "id": "HTXZRvEeNMb1",
        "colab": {
          "base_uri": "https://localhost:8080/"
        },
        "outputId": "c3db69b1-e215-44c0-e5f2-efe6d22b493b"
      },
      "execution_count": null,
      "outputs": [
        {
          "output_type": "stream",
          "name": "stdout",
          "text": [
            "==== Model DecisionTreeClassifier ====\n",
            "\n",
            "Confusion Matrix\n",
            "[[290   0   0   0   1   0   0]\n",
            " [  0  87   0   0   0   3   0]\n",
            " [  0   0  65   0   0   0   0]\n",
            " [  0   0   0  82   0   0   0]\n",
            " [  0   0   0   0 104   0   0]\n",
            " [  0   2   0   0   0  89   0]\n",
            " [  0   0   0   1   0   0  30]]\n",
            "\n",
            "Metrics Scores\n",
            "Accuracy: 0.991\n",
            "Precision (Macro Avg.): 0.989\n",
            "Recall (Macro Avg.): 0.987\n",
            "F1-Score (Macro Avg.): 0.988\n",
            "\n",
            "Classification Report\n",
            "              precision    recall  f1-score   support\n",
            "\n",
            "           1       1.00      1.00      1.00       290\n",
            "           2       0.97      0.98      0.97        89\n",
            "           3       1.00      1.00      1.00        65\n",
            "           4       1.00      0.99      0.99        83\n",
            "           5       1.00      0.99      1.00       105\n",
            "           6       0.98      0.97      0.97        92\n",
            "           7       0.97      1.00      0.98        30\n",
            "\n",
            "    accuracy                           0.99       754\n",
            "   macro avg       0.99      0.99      0.99       754\n",
            "weighted avg       0.99      0.99      0.99       754\n",
            "\n"
          ]
        }
      ]
    },
    {
      "cell_type": "markdown",
      "source": [
        "> Hasil *hyperparameter tuning* menggunakan `GridSearchCV` menunjukkan peningkatan performa pada model decision tree. Oleh karena itu, model ini akan disimpan sebagai model final dan akan dibandingkan dengan model lainnya."
      ],
      "metadata": {
        "id": "RHD72xvW7Q3d"
      }
    },
    {
      "cell_type": "markdown",
      "source": [
        "## **d. Analisis Hasil Evaluasi Model Klasifikasi**"
      ],
      "metadata": {
        "id": "ZRsOdm4uEgAW"
      }
    },
    {
      "cell_type": "markdown",
      "source": [
        "Berikut adalah **rekomendasi** tahapannya.\n",
        "1. Bandingkan hasil evaluasi sebelum dan setelah tuning (jika dilakukan).\n",
        "2. Identifikasi kelemahan model, seperti:\n",
        "  - Precision atau Recall rendah untuk kelas tertentu.\n",
        "  - Apakah model mengalami overfitting atau underfitting?\n",
        "3. Berikan rekomendasi tindakan lanjutan, seperti mengumpulkan data tambahan atau mencoba algoritma lain jika hasil belum memuaskan."
      ],
      "metadata": {
        "id": "Hm3BhSi6N4_l"
      }
    },
    {
      "cell_type": "code",
      "source": [
        "# model summary dict\n",
        "model_results = {\n",
        "    'K-Nearest Neighbors (KNN)': best_knn_random_result,\n",
        "    'Decision Tree Classifier (DT)': best_dt_result,\n",
        "    'Random Forest Classifier (RF)': rf_result,\n",
        "    'Support Vector Machine (SVM)': svm_result,\n",
        "    'Logistic Regression (LR)': lr_result\n",
        "}\n",
        "\n",
        "# model summary dataframe\n",
        "summary_df = pd.DataFrame.from_dict(model_results, orient='index')[['Accuracy', 'Precision (Macro Avg.)', 'Recall (Macro Avg.)', 'F1-Score (Macro Avg.)']]\n",
        "\n",
        "summary_df.reset_index(inplace=True)\n",
        "summary_df.rename(columns={'index': 'Model'}, inplace=True)\n",
        "\n",
        "summary_df"
      ],
      "metadata": {
        "colab": {
          "base_uri": "https://localhost:8080/",
          "height": 206
        },
        "id": "ZlB4VZLN7xno",
        "outputId": "b90b39c1-1316-49b4-e9a5-55cfe0190441"
      },
      "execution_count": null,
      "outputs": [
        {
          "output_type": "execute_result",
          "data": {
            "text/plain": [
              "                           Model  Accuracy  Precision (Macro Avg.)  \\\n",
              "0      K-Nearest Neighbors (KNN)     0.972                   0.968   \n",
              "1  Decision Tree Classifier (DT)     0.991                   0.989   \n",
              "2  Random Forest Classifier (RF)     0.981                   0.982   \n",
              "3   Support Vector Machine (SVM)     0.985                   0.986   \n",
              "4       Logistic Regression (LR)     0.993                   0.995   \n",
              "\n",
              "   Recall (Macro Avg.)  F1-Score (Macro Avg.)  \n",
              "0                0.961                  0.965  \n",
              "1                0.987                  0.988  \n",
              "2                0.976                  0.978  \n",
              "3                0.980                  0.983  \n",
              "4                0.993                  0.994  "
            ],
            "text/html": [
              "\n",
              "  <div id=\"df-c74b6f43-5350-4dad-b10b-221434aa7ef1\" class=\"colab-df-container\">\n",
              "    <div>\n",
              "<style scoped>\n",
              "    .dataframe tbody tr th:only-of-type {\n",
              "        vertical-align: middle;\n",
              "    }\n",
              "\n",
              "    .dataframe tbody tr th {\n",
              "        vertical-align: top;\n",
              "    }\n",
              "\n",
              "    .dataframe thead th {\n",
              "        text-align: right;\n",
              "    }\n",
              "</style>\n",
              "<table border=\"1\" class=\"dataframe\">\n",
              "  <thead>\n",
              "    <tr style=\"text-align: right;\">\n",
              "      <th></th>\n",
              "      <th>Model</th>\n",
              "      <th>Accuracy</th>\n",
              "      <th>Precision (Macro Avg.)</th>\n",
              "      <th>Recall (Macro Avg.)</th>\n",
              "      <th>F1-Score (Macro Avg.)</th>\n",
              "    </tr>\n",
              "  </thead>\n",
              "  <tbody>\n",
              "    <tr>\n",
              "      <th>0</th>\n",
              "      <td>K-Nearest Neighbors (KNN)</td>\n",
              "      <td>0.972</td>\n",
              "      <td>0.968</td>\n",
              "      <td>0.961</td>\n",
              "      <td>0.965</td>\n",
              "    </tr>\n",
              "    <tr>\n",
              "      <th>1</th>\n",
              "      <td>Decision Tree Classifier (DT)</td>\n",
              "      <td>0.991</td>\n",
              "      <td>0.989</td>\n",
              "      <td>0.987</td>\n",
              "      <td>0.988</td>\n",
              "    </tr>\n",
              "    <tr>\n",
              "      <th>2</th>\n",
              "      <td>Random Forest Classifier (RF)</td>\n",
              "      <td>0.981</td>\n",
              "      <td>0.982</td>\n",
              "      <td>0.976</td>\n",
              "      <td>0.978</td>\n",
              "    </tr>\n",
              "    <tr>\n",
              "      <th>3</th>\n",
              "      <td>Support Vector Machine (SVM)</td>\n",
              "      <td>0.985</td>\n",
              "      <td>0.986</td>\n",
              "      <td>0.980</td>\n",
              "      <td>0.983</td>\n",
              "    </tr>\n",
              "    <tr>\n",
              "      <th>4</th>\n",
              "      <td>Logistic Regression (LR)</td>\n",
              "      <td>0.993</td>\n",
              "      <td>0.995</td>\n",
              "      <td>0.993</td>\n",
              "      <td>0.994</td>\n",
              "    </tr>\n",
              "  </tbody>\n",
              "</table>\n",
              "</div>\n",
              "    <div class=\"colab-df-buttons\">\n",
              "\n",
              "  <div class=\"colab-df-container\">\n",
              "    <button class=\"colab-df-convert\" onclick=\"convertToInteractive('df-c74b6f43-5350-4dad-b10b-221434aa7ef1')\"\n",
              "            title=\"Convert this dataframe to an interactive table.\"\n",
              "            style=\"display:none;\">\n",
              "\n",
              "  <svg xmlns=\"http://www.w3.org/2000/svg\" height=\"24px\" viewBox=\"0 -960 960 960\">\n",
              "    <path d=\"M120-120v-720h720v720H120Zm60-500h600v-160H180v160Zm220 220h160v-160H400v160Zm0 220h160v-160H400v160ZM180-400h160v-160H180v160Zm440 0h160v-160H620v160ZM180-180h160v-160H180v160Zm440 0h160v-160H620v160Z\"/>\n",
              "  </svg>\n",
              "    </button>\n",
              "\n",
              "  <style>\n",
              "    .colab-df-container {\n",
              "      display:flex;\n",
              "      gap: 12px;\n",
              "    }\n",
              "\n",
              "    .colab-df-convert {\n",
              "      background-color: #E8F0FE;\n",
              "      border: none;\n",
              "      border-radius: 50%;\n",
              "      cursor: pointer;\n",
              "      display: none;\n",
              "      fill: #1967D2;\n",
              "      height: 32px;\n",
              "      padding: 0 0 0 0;\n",
              "      width: 32px;\n",
              "    }\n",
              "\n",
              "    .colab-df-convert:hover {\n",
              "      background-color: #E2EBFA;\n",
              "      box-shadow: 0px 1px 2px rgba(60, 64, 67, 0.3), 0px 1px 3px 1px rgba(60, 64, 67, 0.15);\n",
              "      fill: #174EA6;\n",
              "    }\n",
              "\n",
              "    .colab-df-buttons div {\n",
              "      margin-bottom: 4px;\n",
              "    }\n",
              "\n",
              "    [theme=dark] .colab-df-convert {\n",
              "      background-color: #3B4455;\n",
              "      fill: #D2E3FC;\n",
              "    }\n",
              "\n",
              "    [theme=dark] .colab-df-convert:hover {\n",
              "      background-color: #434B5C;\n",
              "      box-shadow: 0px 1px 3px 1px rgba(0, 0, 0, 0.15);\n",
              "      filter: drop-shadow(0px 1px 2px rgba(0, 0, 0, 0.3));\n",
              "      fill: #FFFFFF;\n",
              "    }\n",
              "  </style>\n",
              "\n",
              "    <script>\n",
              "      const buttonEl =\n",
              "        document.querySelector('#df-c74b6f43-5350-4dad-b10b-221434aa7ef1 button.colab-df-convert');\n",
              "      buttonEl.style.display =\n",
              "        google.colab.kernel.accessAllowed ? 'block' : 'none';\n",
              "\n",
              "      async function convertToInteractive(key) {\n",
              "        const element = document.querySelector('#df-c74b6f43-5350-4dad-b10b-221434aa7ef1');\n",
              "        const dataTable =\n",
              "          await google.colab.kernel.invokeFunction('convertToInteractive',\n",
              "                                                    [key], {});\n",
              "        if (!dataTable) return;\n",
              "\n",
              "        const docLinkHtml = 'Like what you see? Visit the ' +\n",
              "          '<a target=\"_blank\" href=https://colab.research.google.com/notebooks/data_table.ipynb>data table notebook</a>'\n",
              "          + ' to learn more about interactive tables.';\n",
              "        element.innerHTML = '';\n",
              "        dataTable['output_type'] = 'display_data';\n",
              "        await google.colab.output.renderOutput(dataTable, element);\n",
              "        const docLink = document.createElement('div');\n",
              "        docLink.innerHTML = docLinkHtml;\n",
              "        element.appendChild(docLink);\n",
              "      }\n",
              "    </script>\n",
              "  </div>\n",
              "\n",
              "\n",
              "<div id=\"df-dfce27eb-a49f-4c3a-9adb-42479895ef9f\">\n",
              "  <button class=\"colab-df-quickchart\" onclick=\"quickchart('df-dfce27eb-a49f-4c3a-9adb-42479895ef9f')\"\n",
              "            title=\"Suggest charts\"\n",
              "            style=\"display:none;\">\n",
              "\n",
              "<svg xmlns=\"http://www.w3.org/2000/svg\" height=\"24px\"viewBox=\"0 0 24 24\"\n",
              "     width=\"24px\">\n",
              "    <g>\n",
              "        <path d=\"M19 3H5c-1.1 0-2 .9-2 2v14c0 1.1.9 2 2 2h14c1.1 0 2-.9 2-2V5c0-1.1-.9-2-2-2zM9 17H7v-7h2v7zm4 0h-2V7h2v10zm4 0h-2v-4h2v4z\"/>\n",
              "    </g>\n",
              "</svg>\n",
              "  </button>\n",
              "\n",
              "<style>\n",
              "  .colab-df-quickchart {\n",
              "      --bg-color: #E8F0FE;\n",
              "      --fill-color: #1967D2;\n",
              "      --hover-bg-color: #E2EBFA;\n",
              "      --hover-fill-color: #174EA6;\n",
              "      --disabled-fill-color: #AAA;\n",
              "      --disabled-bg-color: #DDD;\n",
              "  }\n",
              "\n",
              "  [theme=dark] .colab-df-quickchart {\n",
              "      --bg-color: #3B4455;\n",
              "      --fill-color: #D2E3FC;\n",
              "      --hover-bg-color: #434B5C;\n",
              "      --hover-fill-color: #FFFFFF;\n",
              "      --disabled-bg-color: #3B4455;\n",
              "      --disabled-fill-color: #666;\n",
              "  }\n",
              "\n",
              "  .colab-df-quickchart {\n",
              "    background-color: var(--bg-color);\n",
              "    border: none;\n",
              "    border-radius: 50%;\n",
              "    cursor: pointer;\n",
              "    display: none;\n",
              "    fill: var(--fill-color);\n",
              "    height: 32px;\n",
              "    padding: 0;\n",
              "    width: 32px;\n",
              "  }\n",
              "\n",
              "  .colab-df-quickchart:hover {\n",
              "    background-color: var(--hover-bg-color);\n",
              "    box-shadow: 0 1px 2px rgba(60, 64, 67, 0.3), 0 1px 3px 1px rgba(60, 64, 67, 0.15);\n",
              "    fill: var(--button-hover-fill-color);\n",
              "  }\n",
              "\n",
              "  .colab-df-quickchart-complete:disabled,\n",
              "  .colab-df-quickchart-complete:disabled:hover {\n",
              "    background-color: var(--disabled-bg-color);\n",
              "    fill: var(--disabled-fill-color);\n",
              "    box-shadow: none;\n",
              "  }\n",
              "\n",
              "  .colab-df-spinner {\n",
              "    border: 2px solid var(--fill-color);\n",
              "    border-color: transparent;\n",
              "    border-bottom-color: var(--fill-color);\n",
              "    animation:\n",
              "      spin 1s steps(1) infinite;\n",
              "  }\n",
              "\n",
              "  @keyframes spin {\n",
              "    0% {\n",
              "      border-color: transparent;\n",
              "      border-bottom-color: var(--fill-color);\n",
              "      border-left-color: var(--fill-color);\n",
              "    }\n",
              "    20% {\n",
              "      border-color: transparent;\n",
              "      border-left-color: var(--fill-color);\n",
              "      border-top-color: var(--fill-color);\n",
              "    }\n",
              "    30% {\n",
              "      border-color: transparent;\n",
              "      border-left-color: var(--fill-color);\n",
              "      border-top-color: var(--fill-color);\n",
              "      border-right-color: var(--fill-color);\n",
              "    }\n",
              "    40% {\n",
              "      border-color: transparent;\n",
              "      border-right-color: var(--fill-color);\n",
              "      border-top-color: var(--fill-color);\n",
              "    }\n",
              "    60% {\n",
              "      border-color: transparent;\n",
              "      border-right-color: var(--fill-color);\n",
              "    }\n",
              "    80% {\n",
              "      border-color: transparent;\n",
              "      border-right-color: var(--fill-color);\n",
              "      border-bottom-color: var(--fill-color);\n",
              "    }\n",
              "    90% {\n",
              "      border-color: transparent;\n",
              "      border-bottom-color: var(--fill-color);\n",
              "    }\n",
              "  }\n",
              "</style>\n",
              "\n",
              "  <script>\n",
              "    async function quickchart(key) {\n",
              "      const quickchartButtonEl =\n",
              "        document.querySelector('#' + key + ' button');\n",
              "      quickchartButtonEl.disabled = true;  // To prevent multiple clicks.\n",
              "      quickchartButtonEl.classList.add('colab-df-spinner');\n",
              "      try {\n",
              "        const charts = await google.colab.kernel.invokeFunction(\n",
              "            'suggestCharts', [key], {});\n",
              "      } catch (error) {\n",
              "        console.error('Error during call to suggestCharts:', error);\n",
              "      }\n",
              "      quickchartButtonEl.classList.remove('colab-df-spinner');\n",
              "      quickchartButtonEl.classList.add('colab-df-quickchart-complete');\n",
              "    }\n",
              "    (() => {\n",
              "      let quickchartButtonEl =\n",
              "        document.querySelector('#df-dfce27eb-a49f-4c3a-9adb-42479895ef9f button');\n",
              "      quickchartButtonEl.style.display =\n",
              "        google.colab.kernel.accessAllowed ? 'block' : 'none';\n",
              "    })();\n",
              "  </script>\n",
              "</div>\n",
              "\n",
              "  <div id=\"id_60c32de4-b9de-44dc-a2e6-219b14c2a5c0\">\n",
              "    <style>\n",
              "      .colab-df-generate {\n",
              "        background-color: #E8F0FE;\n",
              "        border: none;\n",
              "        border-radius: 50%;\n",
              "        cursor: pointer;\n",
              "        display: none;\n",
              "        fill: #1967D2;\n",
              "        height: 32px;\n",
              "        padding: 0 0 0 0;\n",
              "        width: 32px;\n",
              "      }\n",
              "\n",
              "      .colab-df-generate:hover {\n",
              "        background-color: #E2EBFA;\n",
              "        box-shadow: 0px 1px 2px rgba(60, 64, 67, 0.3), 0px 1px 3px 1px rgba(60, 64, 67, 0.15);\n",
              "        fill: #174EA6;\n",
              "      }\n",
              "\n",
              "      [theme=dark] .colab-df-generate {\n",
              "        background-color: #3B4455;\n",
              "        fill: #D2E3FC;\n",
              "      }\n",
              "\n",
              "      [theme=dark] .colab-df-generate:hover {\n",
              "        background-color: #434B5C;\n",
              "        box-shadow: 0px 1px 3px 1px rgba(0, 0, 0, 0.15);\n",
              "        filter: drop-shadow(0px 1px 2px rgba(0, 0, 0, 0.3));\n",
              "        fill: #FFFFFF;\n",
              "      }\n",
              "    </style>\n",
              "    <button class=\"colab-df-generate\" onclick=\"generateWithVariable('summary_df')\"\n",
              "            title=\"Generate code using this dataframe.\"\n",
              "            style=\"display:none;\">\n",
              "\n",
              "  <svg xmlns=\"http://www.w3.org/2000/svg\" height=\"24px\"viewBox=\"0 0 24 24\"\n",
              "       width=\"24px\">\n",
              "    <path d=\"M7,19H8.4L18.45,9,17,7.55,7,17.6ZM5,21V16.75L18.45,3.32a2,2,0,0,1,2.83,0l1.4,1.43a1.91,1.91,0,0,1,.58,1.4,1.91,1.91,0,0,1-.58,1.4L9.25,21ZM18.45,9,17,7.55Zm-12,3A5.31,5.31,0,0,0,4.9,8.1,5.31,5.31,0,0,0,1,6.5,5.31,5.31,0,0,0,4.9,4.9,5.31,5.31,0,0,0,6.5,1,5.31,5.31,0,0,0,8.1,4.9,5.31,5.31,0,0,0,12,6.5,5.46,5.46,0,0,0,6.5,12Z\"/>\n",
              "  </svg>\n",
              "    </button>\n",
              "    <script>\n",
              "      (() => {\n",
              "      const buttonEl =\n",
              "        document.querySelector('#id_60c32de4-b9de-44dc-a2e6-219b14c2a5c0 button.colab-df-generate');\n",
              "      buttonEl.style.display =\n",
              "        google.colab.kernel.accessAllowed ? 'block' : 'none';\n",
              "\n",
              "      buttonEl.onclick = () => {\n",
              "        google.colab.notebook.generateWithVariable('summary_df');\n",
              "      }\n",
              "      })();\n",
              "    </script>\n",
              "  </div>\n",
              "\n",
              "    </div>\n",
              "  </div>\n"
            ],
            "application/vnd.google.colaboratory.intrinsic+json": {
              "type": "dataframe",
              "variable_name": "summary_df",
              "summary": "{\n  \"name\": \"summary_df\",\n  \"rows\": 5,\n  \"fields\": [\n    {\n      \"column\": \"Model\",\n      \"properties\": {\n        \"dtype\": \"string\",\n        \"num_unique_values\": 5,\n        \"samples\": [\n          \"Decision Tree Classifier (DT)\",\n          \"Logistic Regression (LR)\",\n          \"Random Forest Classifier (RF)\"\n        ],\n        \"semantic_type\": \"\",\n        \"description\": \"\"\n      }\n    },\n    {\n      \"column\": \"Accuracy\",\n      \"properties\": {\n        \"dtype\": \"number\",\n        \"std\": 0.00841427358718506,\n        \"min\": 0.972,\n        \"max\": 0.993,\n        \"num_unique_values\": 5,\n        \"samples\": [\n          0.991,\n          0.993,\n          0.981\n        ],\n        \"semantic_type\": \"\",\n        \"description\": \"\"\n      }\n    },\n    {\n      \"column\": \"Precision (Macro Avg.)\",\n      \"properties\": {\n        \"dtype\": \"number\",\n        \"std\": 0.010124228365658303,\n        \"min\": 0.968,\n        \"max\": 0.995,\n        \"num_unique_values\": 5,\n        \"samples\": [\n          0.989,\n          0.995,\n          0.982\n        ],\n        \"semantic_type\": \"\",\n        \"description\": \"\"\n      }\n    },\n    {\n      \"column\": \"Recall (Macro Avg.)\",\n      \"properties\": {\n        \"dtype\": \"number\",\n        \"std\": 0.012177848742696727,\n        \"min\": 0.961,\n        \"max\": 0.993,\n        \"num_unique_values\": 5,\n        \"samples\": [\n          0.987,\n          0.993,\n          0.976\n        ],\n        \"semantic_type\": \"\",\n        \"description\": \"\"\n      }\n    },\n    {\n      \"column\": \"F1-Score (Macro Avg.)\",\n      \"properties\": {\n        \"dtype\": \"number\",\n        \"std\": 0.011013627921806702,\n        \"min\": 0.965,\n        \"max\": 0.994,\n        \"num_unique_values\": 5,\n        \"samples\": [\n          0.988,\n          0.994,\n          0.978\n        ],\n        \"semantic_type\": \"\",\n        \"description\": \"\"\n      }\n    }\n  ]\n}"
            }
          },
          "metadata": {},
          "execution_count": 45
        }
      ]
    },
    {
      "cell_type": "markdown",
      "source": [
        "> Secara keseluruhan, model **Logistic Regression** menunjukkan performa paling unggul di antara kelima model berdasarkan keempat metrik (*accuracy*, *precision*, *recall*, dan *f1-score*). Hal ini menunjukkan bahwa model ini adalah model yang paling sesuai untuk digunakan dalam proses pengklasifikasian data ini.\n",
        "\n",
        "> Di sisi lain, model **K-Nearest Neighbors** merupakan model dengan performa terendah di antara kelima model. Meskipun demikian, performa model ini sebenarnya tergolong sangat baik dengan nilai metrik mendekati satu. Namun, model ini bukanlah yang paling optimal untuk dataset ini jika dibandingkan dengan model lainnya.\n",
        "\n",
        "> Selain itu, model **Decision Tree Classifier** juga dapat menjadi alternatif yang layak karena secara keseluruhan memiliki performa yang sangat baik walaupun masih lebih rendah dari Logistic Regression. Model ini juga mudah untuk diinterpretasi, menjadikannya sebagai pilihan jika interpretabilitas diutamakan. Namun, model ini secara alami cenderung rentan terhadap permasalahan *overfitting* sehingga diperlukan tindakan atau pengawasan lebih lanjut jika sudah muncul indikasi terjadinya *overfitting*. Jika permasalahan *overfitting* menjadi perhatian utama, model **Random Forest Classifier** adalah pilihan yang lebih baik karena model ini lebih tahan terhadap *overfitting* karena metode *ensemble*-nya.\n",
        "\n",
        "> Terakhir, model **Support Vector Machine** juga merupakan pilihan yang bagus, dengan performa yang cukup baik, dan menempati peringkat ketiga setelah model Decision Tree Classifier (setelah dilakukan *tuning*).\n",
        "\n"
      ],
      "metadata": {
        "id": "nNC0W-XS1-Hh"
      }
    }
  ]
}